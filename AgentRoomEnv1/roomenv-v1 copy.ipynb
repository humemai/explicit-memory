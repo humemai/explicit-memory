{
 "cells": [
  {
   "cell_type": "code",
   "execution_count": 11,
   "metadata": {},
   "outputs": [
    {
     "name": "stdout",
     "output_type": "stream",
     "text": [
      "87.2 False\n",
      "85.8 False\n",
      "83.2 False\n",
      "75.8 False\n",
      "67.8 False\n",
      "96.0 True\n",
      "99.4 True\n",
      "94.0 True\n",
      "94.2 True\n",
      "91.2 True\n",
      "\n",
      "94.96 2.699333251008479\n",
      "79.96000000000001 7.241436321614658\n"
     ]
    }
   ],
   "source": [
    "from glob import glob\n",
    "from explicit_memory.utils import read_yaml\n",
    "import numpy as np\n",
    "\n",
    "foo = {True: [], False: []}\n",
    "for results_yaml in sorted(glob('./training_results/config0/question_interval-1/*/results.yaml')):\n",
    "    train_yaml = results_yaml.replace('results.yaml', 'train.yaml')\n",
    "\n",
    "    results = read_yaml(results_yaml)\n",
    "    train = read_yaml(train_yaml)\n",
    "    print(results[\"test_score\"][\"mean\"], train[\"pretrain_semantic\"])\n",
    "    foo[train[\"pretrain_semantic\"]].append(results[\"test_score\"][\"mean\"])\n",
    "\n",
    "print()\n",
    "for key, val in foo.items():\n",
    "    print(np.mean(val), np.std(val))\n"
   ]
  },
  {
   "cell_type": "code",
   "execution_count": 8,
   "metadata": {},
   "outputs": [
    {
     "data": {
      "text/plain": [
       "{True: [96.0, 99.4, 94.0, 94.2, 91.2], False: [87.2, 85.8, 83.2, 75.8, 67.8]}"
      ]
     },
     "execution_count": 8,
     "metadata": {},
     "output_type": "execute_result"
    }
   ],
   "source": [
    "foo"
   ]
  }
 ],
 "metadata": {
  "interpreter": {
   "hash": "c7c14ce45c674ffbe7e3a8bc18299264a1035542c780d18c0e8f0c585e044f28"
  },
  "kernelspec": {
   "display_name": "Python 3.8.12 ('dev-python3.8')",
   "language": "python",
   "name": "python3"
  },
  "language_info": {
   "codemirror_mode": {
    "name": "ipython",
    "version": 3
   },
   "file_extension": ".py",
   "mimetype": "text/x-python",
   "name": "python",
   "nbconvert_exporter": "python",
   "pygments_lexer": "ipython3",
   "version": "3.10.12"
  },
  "orig_nbformat": 4
 },
 "nbformat": 4,
 "nbformat_minor": 2
}
