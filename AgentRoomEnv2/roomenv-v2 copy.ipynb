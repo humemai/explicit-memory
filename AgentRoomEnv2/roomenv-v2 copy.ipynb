{
 "cells": [
  {
   "cell_type": "code",
   "execution_count": 91,
   "metadata": {},
   "outputs": [],
   "source": [
    "import numpy as np\n",
    "\n",
    "\n",
    "class History:\n",
    "    def __init__(self, block_size: int = 6) -> None:\n",
    "        self.block_size = block_size\n",
    "        self.blocks = [[]] * self.block_size\n",
    "\n",
    "    def list(self) -> list:\n",
    "        return [element for block in self.blocks for element in block]\n",
    "\n",
    "    def add_block(self, block: list) -> None:\n",
    "        self.blocks = self.blocks[1:] + [block]\n",
    "\n",
    "    def add_action(self, action: int) -> None:\n",
    "        assert action in [0, 1, 2, 3, 4]\n",
    "        self.blocks[-1].append(action)\n",
    "\n",
    "    def add_reward(self, reward: int) -> None:\n",
    "        self.blocks[-1].append(reward)\n",
    "\n",
    "    def __repr__(self) -> str:\n",
    "        return str(self.blocks)\n",
    "\n",
    "    # def numpy(self) -> list:\n",
    "    #     return np.array(self.history)\n",
    "\n",
    "\n",
    "history = History(6)"
   ]
  },
  {
   "cell_type": "code",
   "execution_count": 92,
   "metadata": {},
   "outputs": [
    {
     "data": {
      "text/plain": [
       "{'room': [['room_000', 'north', 'wall', 0],\n",
       "  ['room_000', 'east', 'room_001', 0],\n",
       "  ['room_000', 'south', 'wall', 0],\n",
       "  ['room_000', 'west', 'wall', 0],\n",
       "  ['agent', 'atlocation', 'room_000', 0]],\n",
       " 'questions': [['ind_002', 'atlocation', '?', 0],\n",
       "  ['ind_000', 'atlocation', '?', 0],\n",
       "  ['dep_003', 'atlocation', '?', 0],\n",
       "  ['sta_003', 'atlocation', '?', 0],\n",
       "  ['ind_000', 'atlocation', '?', 0],\n",
       "  ['dep_002', 'atlocation', '?', 0],\n",
       "  ['ind_001', 'atlocation', '?', 0],\n",
       "  ['dep_002', 'atlocation', '?', 0],\n",
       "  ['ind_000', 'atlocation', '?', 0],\n",
       "  ['ind_002', 'atlocation', '?', 0]]}"
      ]
     },
     "execution_count": 92,
     "metadata": {},
     "output_type": "execute_result"
    }
   ],
   "source": [
    "import gymnasium as gym\n",
    "\n",
    "env = gym.make(\"room_env:RoomEnv-v2\")\n",
    "observations, info = env.reset()\n",
    "observations"
   ]
  },
  {
   "cell_type": "code",
   "execution_count": 93,
   "metadata": {},
   "outputs": [],
   "source": [
    "history.add_block(observations[\"room\"])"
   ]
  },
  {
   "cell_type": "code",
   "execution_count": 94,
   "metadata": {},
   "outputs": [
    {
     "data": {
      "text/plain": [
       "[[], [], [], [], [], [['room_000', 'north', 'wall', 0], ['room_000', 'east', 'room_001', 0], ['room_000', 'south', 'wall', 0], ['room_000', 'west', 'wall', 0], ['agent', 'atlocation', 'room_000', 0]]]"
      ]
     },
     "execution_count": 94,
     "metadata": {},
     "output_type": "execute_result"
    }
   ],
   "source": [
    "history"
   ]
  },
  {
   "cell_type": "code",
   "execution_count": 98,
   "metadata": {},
   "outputs": [],
   "source": [
    "(\n",
    "    observations,\n",
    "    reward,\n",
    "    done,\n",
    "    truncated,\n",
    "    info,\n",
    ") = env.step(([\"foo\"]*10, \"east\"))"
   ]
  },
  {
   "cell_type": "code",
   "execution_count": 119,
   "metadata": {},
   "outputs": [],
   "source": [
    "history.add_block(observations[\"room\"])"
   ]
  },
  {
   "cell_type": "code",
   "execution_count": 121,
   "metadata": {},
   "outputs": [
    {
     "data": {
      "text/plain": [
       "[['room_002', 'north', 'wall', 2],\n",
       " ['room_002', 'east', 'room_003', 2],\n",
       " ['room_002', 'south', 'wall', 2],\n",
       " ['room_002', 'west', 'room_001', 2],\n",
       " ['agent', 'atlocation', 'room_002', 2],\n",
       " ['room_002', 'north', 'wall', 2],\n",
       " ['room_002', 'east', 'room_003', 2],\n",
       " ['room_002', 'south', 'wall', 2],\n",
       " ['room_002', 'west', 'room_001', 2],\n",
       " ['agent', 'atlocation', 'room_002', 2],\n",
       " ['room_002', 'north', 'wall', 2],\n",
       " ['room_002', 'east', 'room_003', 2],\n",
       " ['room_002', 'south', 'wall', 2],\n",
       " ['room_002', 'west', 'room_001', 2],\n",
       " ['agent', 'atlocation', 'room_002', 2],\n",
       " ['room_002', 'north', 'wall', 2],\n",
       " ['room_002', 'east', 'room_003', 2],\n",
       " ['room_002', 'south', 'wall', 2],\n",
       " ['room_002', 'west', 'room_001', 2],\n",
       " ['agent', 'atlocation', 'room_002', 2],\n",
       " ['room_002', 'north', 'wall', 2],\n",
       " ['room_002', 'east', 'room_003', 2],\n",
       " ['room_002', 'south', 'wall', 2],\n",
       " ['room_002', 'west', 'room_001', 2],\n",
       " ['agent', 'atlocation', 'room_002', 2],\n",
       " ['room_002', 'north', 'wall', 2],\n",
       " ['room_002', 'east', 'room_003', 2],\n",
       " ['room_002', 'south', 'wall', 2],\n",
       " ['room_002', 'west', 'room_001', 2],\n",
       " ['agent', 'atlocation', 'room_002', 2]]"
      ]
     },
     "execution_count": 121,
     "metadata": {},
     "output_type": "execute_result"
    }
   ],
   "source": [
    "history.list()"
   ]
  },
  {
   "cell_type": "code",
   "execution_count": 74,
   "metadata": {},
   "outputs": [
    {
     "data": {
      "text/plain": [
       "[[['tae', 'atlocation', 'kitchen', 0], ['tae', 'atlocation', 'bedroom', 0], 0, 10], [['tae', 'atlocation', 'kitchen', 0], ['tae', 'atlocation', 'bedroom', 0]], [['tae', 'atlocation', 'kitchen', 0], ['tae', 'atlocation', 'bedroom', 0], 0, 0]]"
      ]
     },
     "execution_count": 74,
     "metadata": {},
     "output_type": "execute_result"
    }
   ],
   "source": [
    "foo.add_action(0)\n",
    "foo"
   ]
  },
  {
   "cell_type": "code",
   "execution_count": 77,
   "metadata": {},
   "outputs": [
    {
     "data": {
      "text/plain": [
       "[[['tae', 'atlocation', 'kitchen', 0], ['tae', 'atlocation', 'bedroom', 0]], [['tae', 'atlocation', 'kitchen', 0], ['tae', 'atlocation', 'bedroom', 0], 0, 0, 10], [['tae', 'atlocation', 'kitchen', 0], ['tae', 'atlocation', 'bedroom', 0], 10]]"
      ]
     },
     "execution_count": 77,
     "metadata": {},
     "output_type": "execute_result"
    }
   ],
   "source": [
    "foo.add_reward(10)\n",
    "foo"
   ]
  },
  {
   "cell_type": "code",
   "execution_count": 80,
   "metadata": {},
   "outputs": [],
   "source": [
    "from explicit_memory.utils import ReplayBuffer\n",
    "\n",
    "replay_buffer = ReplayBuffer(observation_type=\"dict\", size=4, batch_size=2)\n",
    "\n",
    "replay_buffer.store(*[foo.list(), 0, 10, foo.list(), False])\n",
    "replay_buffer.store(*[foo.list(), 0, 10, foo.list(), False])\n",
    "replay_buffer.store(*[foo.list(), 0, 10, foo.list(), False])\n",
    "replay_buffer.store(*[foo.list(), 0, 10, foo.list(), False])\n",
    "\n"
   ]
  },
  {
   "cell_type": "code",
   "execution_count": 81,
   "metadata": {},
   "outputs": [
    {
     "data": {
      "text/plain": [
       "{'obs': array([list([['tae', 'atlocation', 'kitchen', 0], ['tae', 'atlocation', 'bedroom', 0], ['tae', 'atlocation', 'kitchen', 0], ['tae', 'atlocation', 'bedroom', 0], 0, 0, 10, ['tae', 'atlocation', 'kitchen', 0], ['tae', 'atlocation', 'bedroom', 0], 10]),\n",
       "        list([['tae', 'atlocation', 'kitchen', 0], ['tae', 'atlocation', 'bedroom', 0], ['tae', 'atlocation', 'kitchen', 0], ['tae', 'atlocation', 'bedroom', 0], 0, 0, 10, ['tae', 'atlocation', 'kitchen', 0], ['tae', 'atlocation', 'bedroom', 0], 10])],\n",
       "       dtype=object),\n",
       " 'next_obs': array([list([['tae', 'atlocation', 'kitchen', 0], ['tae', 'atlocation', 'bedroom', 0], ['tae', 'atlocation', 'kitchen', 0], ['tae', 'atlocation', 'bedroom', 0], 0, 0, 10, ['tae', 'atlocation', 'kitchen', 0], ['tae', 'atlocation', 'bedroom', 0], 10]),\n",
       "        list([['tae', 'atlocation', 'kitchen', 0], ['tae', 'atlocation', 'bedroom', 0], ['tae', 'atlocation', 'kitchen', 0], ['tae', 'atlocation', 'bedroom', 0], 0, 0, 10, ['tae', 'atlocation', 'kitchen', 0], ['tae', 'atlocation', 'bedroom', 0], 10])],\n",
       "       dtype=object),\n",
       " 'acts': array([0., 0.], dtype=float32),\n",
       " 'rews': array([10., 10.], dtype=float32),\n",
       " 'done': array([0., 0.], dtype=float32)}"
      ]
     },
     "execution_count": 81,
     "metadata": {},
     "output_type": "execute_result"
    }
   ],
   "source": [
    "replay_buffer.sample_batch()"
   ]
  },
  {
   "cell_type": "code",
   "execution_count": null,
   "metadata": {},
   "outputs": [],
   "source": [
    "import logging\n",
    "\n",
    "logger = logging.getLogger()\n",
    "logger.disabled = True\n",
    "\n",
    "import random\n",
    "\n",
    "from copy import deepcopy\n",
    "from tqdm.auto import tqdm\n",
    "from agent.dqn import DQNMMAgent, DQNExploreAgent\n",
    "\n",
    "config = {\n",
    "    \"question_prob\": 1.0,\n",
    "    \"terminates_at\": 99,\n",
    "    \"randomize_observations\": \"objects\",\n",
    "    \"room_size\": \"l\",\n",
    "    \"rewards\": {\"correct\": 1, \"wrong\": 0, \"partial\": 0},\n",
    "    \"make_everything_static\": False,\n",
    "    \"num_total_questions\": 1000,\n",
    "    \"question_interval\": 1,\n",
    "    \"include_walls_in_observations\": True,\n",
    "}\n",
    "\n",
    "params = {\n",
    "    \"env_str\": \"room_env:RoomEnv-v2\",\n",
    "    \"max_epsilon\": 1.0,\n",
    "    \"min_epsilon\": 0.1,\n",
    "    \"epsilon_decay_until\": 100 * 100,\n",
    "    \"gamma\": 0.9,\n",
    "    \"capacity\": {\n",
    "        \"episodic\": 16,\n",
    "        \"episodic_agent\": 0,\n",
    "        \"semantic\": 16,\n",
    "        \"semantic_map\": 0,\n",
    "        \"short\": 1,\n",
    "    },\n",
    "    \"nn_params\": {\n",
    "        \"architecture\": \"lstm\",\n",
    "        \"hidden_size\": 64,\n",
    "        \"num_layers\": 2,\n",
    "        \"embedding_dim\": 64,\n",
    "        \"make_categorical_embeddings\": False,\n",
    "        \"v1_params\": None,\n",
    "        \"v2_params\": {},\n",
    "        \"memory_of_interest\": [\n",
    "            \"episodic\",\n",
    "            \"semantic\",\n",
    "        ],\n",
    "        \"fuse_information\": \"sum\",\n",
    "        \"include_positional_encoding\": True,\n",
    "        \"max_timesteps\": config[\"terminates_at\"] + 1,\n",
    "        \"max_strength\": config[\"terminates_at\"] + 1,\n",
    "    },\n",
    "    \"num_iterations\": 100 * 100,\n",
    "    \"replay_buffer_size\": 100 * 100,\n",
    "    \"warm_start\": 100 * 100 / 10,\n",
    "    \"batch_size\": 32,\n",
    "    \"target_update_interval\": 10,\n",
    "    \"pretrain_semantic\": False,\n",
    "    \"run_test\": True,\n",
    "    \"num_samples_for_results\": 10,\n",
    "    \"train_seed\": 5,\n",
    "    \"plotting_interval\": 10,\n",
    "    \"device\": \"cpu\",\n",
    "    \"test_seed\": 0,\n",
    "    \"mm_policy\": \"neural\",\n",
    "    \"mm_agent_path\": \"trained-agents/lstm-mm/2023-12-28 18:13:03.001952/agent.pkl\",\n",
    "    \"env_config\": config,\n",
    "    \"qa_policy\": \"episodic_semantic\",\n",
    "    \"ddqn\": True,\n",
    "    \"dueling_dqn\": True,\n",
    "    \"default_root_dir\": \"training_results/explore/TRASH\",\n",
    "    \"run_handcrafted_baselines\": [\n",
    "        {\n",
    "            \"mm\": mm,\n",
    "            \"qa\": qa,\n",
    "            \"explore\": explore,\n",
    "            \"pretrain_semantic\": pretrain_semantic,\n",
    "        }\n",
    "        for mm in [\"random\", \"episodic\", \"semantic\"]\n",
    "        for qa in [\"episodic_semantic\"]\n",
    "        for explore in [\"random\", \"avoid_walls\"]\n",
    "        for pretrain_semantic in [False, \"exclude_walls\"]\n",
    "    ],\n",
    "}\n",
    "\n",
    "\n",
    "agent = DQNExploreAgent(**params)\n",
    "agent.train()"
   ]
  }
 ],
 "metadata": {
  "kernelspec": {
   "display_name": "human-memory",
   "language": "python",
   "name": "python3"
  },
  "language_info": {
   "codemirror_mode": {
    "name": "ipython",
    "version": 3
   },
   "file_extension": ".py",
   "mimetype": "text/x-python",
   "name": "python",
   "nbconvert_exporter": "python",
   "pygments_lexer": "ipython3",
   "version": "3.10.12"
  },
  "orig_nbformat": 4
 },
 "nbformat": 4,
 "nbformat_minor": 2
}
