{
 "cells": [
  {
   "cell_type": "code",
   "execution_count": 33,
   "metadata": {},
   "outputs": [],
   "source": [
    "import numpy as np\n",
    "\n",
    "\n",
    "class History:\n",
    "    def __init__(self, block_size: int = 6) -> None:\n",
    "        self.block_size = block_size\n",
    "        self.blocks = [[]] * self.block_size\n",
    "\n",
    "    def list(self) -> list:\n",
    "        return [element for block in self.blocks for element in block]\n",
    "\n",
    "    def add_block(self, block: list) -> None:\n",
    "        self.blocks = self.blocks[1:] + [block]\n",
    "\n",
    "    def __repr__(self) -> str:\n",
    "        return str(self.blocks)\n",
    "\n",
    "    # def numpy(self) -> list:\n",
    "    #     return np.array(self.history)\n",
    "\n",
    "\n",
    "foo = History(3, False)"
   ]
  },
  {
   "cell_type": "code",
   "execution_count": 34,
   "metadata": {},
   "outputs": [
    {
     "data": {
      "text/plain": [
       "[[], [], [['tae', 'atlocation', 'kitchen', 0], ['tae', 'atlocation', 'bedroom', 0]]]"
      ]
     },
     "execution_count": 34,
     "metadata": {},
     "output_type": "execute_result"
    }
   ],
   "source": [
    "foo.add_block(\n",
    "    [[\"tae\", \"atlocation\", \"kitchen\", 0], [\"tae\", \"atlocation\", \"bedroom\", 0]]\n",
    ")\n",
    "foo"
   ]
  },
  {
   "cell_type": "code",
   "execution_count": 19,
   "metadata": {},
   "outputs": [
    {
     "data": {
      "text/plain": [
       "[[], [], [], [], []]"
      ]
     },
     "execution_count": 19,
     "metadata": {},
     "output_type": "execute_result"
    }
   ],
   "source": [
    "[[]]*5"
   ]
  },
  {
   "cell_type": "code",
   "execution_count": 16,
   "metadata": {},
   "outputs": [
    {
     "data": {
      "text/plain": [
       "[[1], [], []]"
      ]
     },
     "execution_count": 16,
     "metadata": {},
     "output_type": "execute_result"
    }
   ],
   "source": [
    "foo = [[], [], []]\n",
    "\n",
    "foo[0].append(1)\n",
    "foo"
   ]
  },
  {
   "cell_type": "code",
   "execution_count": 17,
   "metadata": {},
   "outputs": [
    {
     "data": {
      "text/plain": [
       "[[], []]"
      ]
     },
     "execution_count": 17,
     "metadata": {},
     "output_type": "execute_result"
    }
   ],
   "source": [
    "foo.pop(0)\n",
    "foo"
   ]
  },
  {
   "cell_type": "code",
   "execution_count": 18,
   "metadata": {},
   "outputs": [
    {
     "data": {
      "text/plain": [
       "[[], [2]]"
      ]
     },
     "execution_count": 18,
     "metadata": {},
     "output_type": "execute_result"
    }
   ],
   "source": [
    "foo[1].append(2)\n",
    "foo"
   ]
  },
  {
   "cell_type": "code",
   "execution_count": null,
   "metadata": {},
   "outputs": [],
   "source": [
    "foo.pop(0)\n",
    "foo"
   ]
  },
  {
   "cell_type": "code",
   "execution_count": null,
   "metadata": {},
   "outputs": [],
   "source": [
    "import logging\n",
    "\n",
    "logger = logging.getLogger()\n",
    "logger.disabled = True\n",
    "\n",
    "import random\n",
    "\n",
    "from copy import deepcopy\n",
    "from tqdm.auto import tqdm\n",
    "from agent.dqn import DQNMMAgent, DQNExploreAgent\n",
    "\n",
    "config = {\n",
    "    \"question_prob\": 1.0,\n",
    "    \"terminates_at\": 99,\n",
    "    \"randomize_observations\": \"objects\",\n",
    "    \"room_size\": \"l\",\n",
    "    \"rewards\": {\"correct\": 1, \"wrong\": 0, \"partial\": 0},\n",
    "    \"make_everything_static\": False,\n",
    "    \"num_total_questions\": 1000,\n",
    "    \"question_interval\": 1,\n",
    "    \"include_walls_in_observations\": True,\n",
    "}\n",
    "\n",
    "params = {\n",
    "    \"env_str\": \"room_env:RoomEnv-v2\",\n",
    "    \"max_epsilon\": 1.0,\n",
    "    \"min_epsilon\": 0.1,\n",
    "    \"epsilon_decay_until\": 100 * 100,\n",
    "    \"gamma\": 0.9,\n",
    "    \"capacity\": {\n",
    "        \"episodic\": 16,\n",
    "        \"episodic_agent\": 0,\n",
    "        \"semantic\": 16,\n",
    "        \"semantic_map\": 0,\n",
    "        \"short\": 1,\n",
    "    },\n",
    "    \"nn_params\": {\n",
    "        \"architecture\": \"lstm\",\n",
    "        \"hidden_size\": 64,\n",
    "        \"num_layers\": 2,\n",
    "        \"embedding_dim\": 64,\n",
    "        \"make_categorical_embeddings\": False,\n",
    "        \"v1_params\": None,\n",
    "        \"v2_params\": {},\n",
    "        \"memory_of_interest\": [\n",
    "            \"episodic\",\n",
    "            \"semantic\",\n",
    "        ],\n",
    "        \"fuse_information\": \"sum\",\n",
    "        \"include_positional_encoding\": True,\n",
    "        \"max_timesteps\": config[\"terminates_at\"] + 1,\n",
    "        \"max_strength\": config[\"terminates_at\"] + 1,\n",
    "    },\n",
    "    \"num_iterations\": 100 * 100,\n",
    "    \"replay_buffer_size\": 100 * 100,\n",
    "    \"warm_start\": 100 * 100 / 10,\n",
    "    \"batch_size\": 32,\n",
    "    \"target_update_interval\": 10,\n",
    "    \"pretrain_semantic\": False,\n",
    "    \"run_test\": True,\n",
    "    \"num_samples_for_results\": 10,\n",
    "    \"train_seed\": 5,\n",
    "    \"plotting_interval\": 10,\n",
    "    \"device\": \"cpu\",\n",
    "    \"test_seed\": 0,\n",
    "    \"mm_policy\": \"neural\",\n",
    "    \"mm_agent_path\": \"trained-agents/lstm-mm/2023-12-28 18:13:03.001952/agent.pkl\",\n",
    "    \"env_config\": config,\n",
    "    \"qa_policy\": \"episodic_semantic\",\n",
    "    \"ddqn\": True,\n",
    "    \"dueling_dqn\": True,\n",
    "    \"default_root_dir\": \"training_results/explore/TRASH\",\n",
    "    \"run_handcrafted_baselines\": [\n",
    "        {\n",
    "            \"mm\": mm,\n",
    "            \"qa\": qa,\n",
    "            \"explore\": explore,\n",
    "            \"pretrain_semantic\": pretrain_semantic,\n",
    "        }\n",
    "        for mm in [\"random\", \"episodic\", \"semantic\"]\n",
    "        for qa in [\"episodic_semantic\"]\n",
    "        for explore in [\"random\", \"avoid_walls\"]\n",
    "        for pretrain_semantic in [False, \"exclude_walls\"]\n",
    "    ],\n",
    "}\n",
    "\n",
    "\n",
    "agent = DQNExploreAgent(**params)\n",
    "agent.train()"
   ]
  }
 ],
 "metadata": {
  "kernelspec": {
   "display_name": "human-memory",
   "language": "python",
   "name": "python3"
  },
  "language_info": {
   "codemirror_mode": {
    "name": "ipython",
    "version": 3
   },
   "file_extension": ".py",
   "mimetype": "text/x-python",
   "name": "python",
   "nbconvert_exporter": "python",
   "pygments_lexer": "ipython3",
   "version": "3.10.12"
  },
  "orig_nbformat": 4
 },
 "nbformat": 4,
 "nbformat_minor": 2
}
