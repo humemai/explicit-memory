{
 "cells": [
  {
   "cell_type": "code",
   "execution_count": null,
   "metadata": {},
   "outputs": [],
   "source": [
    "from glob import glob\n",
    "from explicit_memory.utils import read_yaml\n",
    "import pandas as pd\n",
    "import numpy as np\n",
    "\n",
    "results_all = []\n",
    "for results_path in glob(\"./training_results/PPO/*/results.yaml\"):\n",
    "    train_path = results_path.replace(\"results.yaml\", \"train.yaml\")\n",
    "    train = read_yaml(train_path)\n",
    "    results = read_yaml(results_path)\n",
    "    results_all.append(\n",
    "        {\n",
    "            \"num_episodes\": train[\"num_episodes\"],\n",
    "            \"num_rollouts\": train[\"num_rollouts\"],\n",
    "            \"epoch_per_rollout\": train[\"epoch_per_rollout\"],\n",
    "            \"gamma\": train[\"gamma\"],\n",
    "            \"batch_size\": train[\"batch_size\"],\n",
    "            \"epsilon\": train[\"epsilon\"],\n",
    "            \"entropy_weight\": train[\"entropy_weight\"],\n",
    "            \"tau\": train[\"tau\"],\n",
    "            \"test_score\": results[\"test_score\"][\"mean\"],\n",
    "            \"path\": results_path.split(\"/\")[-2],\n",
    "        }\n",
    "    )\n",
    "\n",
    "df = pd.DataFrame(results_all)\n",
    "df_sorted = df.sort_values(by=\"test_score\", ascending=False)\n",
    "print(f\"number of training results: {len(df_sorted)}\")\n",
    "\n",
    "top_k = 10\n",
    "df_sorted[:top_k]"
   ]
  }
 ],
 "metadata": {
  "kernelspec": {
   "display_name": "human-memory",
   "language": "python",
   "name": "python3"
  },
  "language_info": {
   "codemirror_mode": {
    "name": "ipython",
    "version": 3
   },
   "file_extension": ".py",
   "mimetype": "text/x-python",
   "name": "python",
   "nbconvert_exporter": "python",
   "pygments_lexer": "ipython3",
   "version": "3.10.12"
  },
  "orig_nbformat": 4
 },
 "nbformat": 4,
 "nbformat_minor": 2
}
