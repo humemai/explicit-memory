{
 "cells": [
  {
   "cell_type": "code",
   "execution_count": 1,
   "metadata": {},
   "outputs": [
    {
     "data": {
      "application/vnd.jupyter.widget-view+json": {
       "model_id": "ff049fb92bb544fe8c6396678479726d",
       "version_major": 2,
       "version_minor": 0
      },
      "text/plain": [
       "  0%|          | 0/1000 [00:00<?, ?it/s]"
      ]
     },
     "metadata": {},
     "output_type": "display_data"
    },
    {
     "name": "stdout",
     "output_type": "stream",
     "text": [
      "Running on cpu\n"
     ]
    },
    {
     "name": "stderr",
     "output_type": "stream",
     "text": [
      "/home/tk/.virtualenvs/human-memory/lib/python3.10/site-packages/gymnasium/utils/passive_env_checker.py:168: DeprecationWarning: \u001b[33mWARN: Current gymnasium version requires that `Env.reset` can be passed a `seed` instead of using `Env.seed` for resetting the environment random number generator.\u001b[0m\n",
      "  logger.deprecation(\n",
      "/home/tk/.virtualenvs/human-memory/lib/python3.10/site-packages/gymnasium/utils/passive_env_checker.py:181: DeprecationWarning: \u001b[33mWARN: Current gymnasium version requires that `Env.reset` can be passed `options` to allow the environment initialisation to be passed additional information.\u001b[0m\n",
      "  logger.deprecation(\n",
      "/home/tk/.virtualenvs/human-memory/lib/python3.10/site-packages/gymnasium/utils/passive_env_checker.py:127: UserWarning: \u001b[33mWARN: The obs returned by the `reset()` method should be an int or np.int64, actual type: <class 'dict'>\u001b[0m\n",
      "  logger.warn(f\"{pre} should be an int or np.int64, actual type: {type(obs)}\")\n",
      "/home/tk/.virtualenvs/human-memory/lib/python3.10/site-packages/gymnasium/utils/passive_env_checker.py:159: UserWarning: \u001b[33mWARN: The obs returned by the `reset()` method is not within the observation space.\u001b[0m\n",
      "  logger.warn(f\"{pre} is not within the observation space.\")\n",
      "/home/tk/.virtualenvs/human-memory/lib/python3.10/site-packages/gymnasium/utils/passive_env_checker.py:127: UserWarning: \u001b[33mWARN: The obs returned by the `step()` method should be an int or np.int64, actual type: <class 'dict'>\u001b[0m\n",
      "  logger.warn(f\"{pre} should be an int or np.int64, actual type: {type(obs)}\")\n",
      "/home/tk/.virtualenvs/human-memory/lib/python3.10/site-packages/gymnasium/utils/passive_env_checker.py:159: UserWarning: \u001b[33mWARN: The obs returned by the `step()` method is not within the observation space.\u001b[0m\n",
      "  logger.warn(f\"{pre} is not within the observation space.\")\n",
      "  0%|          | 0/16 [00:40<?, ?it/s]\n"
     ]
    },
    {
     "ename": "AssertionError",
     "evalue": "The length of states, actions, rewards, values, and masks must be the same, but they are 4566, 4566, 334800, 4566, and 334800.",
     "output_type": "error",
     "traceback": [
      "\u001b[0;31m---------------------------------------------------------------------------\u001b[0m",
      "\u001b[0;31mAssertionError\u001b[0m                            Traceback (most recent call last)",
      "Cell \u001b[0;32mIn[1], line 76\u001b[0m\n\u001b[1;32m     74\u001b[0m \u001b[38;5;28;01mfor\u001b[39;00m params \u001b[38;5;129;01min\u001b[39;00m tqdm(params_all):\n\u001b[1;32m     75\u001b[0m     agent \u001b[38;5;241m=\u001b[39m PPOMMAgent(\u001b[38;5;241m*\u001b[39m\u001b[38;5;241m*\u001b[39mparams)\n\u001b[0;32m---> 76\u001b[0m     \u001b[43magent\u001b[49m\u001b[38;5;241;43m.\u001b[39;49m\u001b[43mtrain\u001b[49m\u001b[43m(\u001b[49m\u001b[43m)\u001b[49m\n",
      "File \u001b[0;32m~/repos/explicit-memory-private/AgentRoomEnv2/agent/ppo/ppo_mm.py:299\u001b[0m, in \u001b[0;36mPPOMMAgent.train\u001b[0;34m(self)\u001b[0m\n\u001b[1;32m    295\u001b[0m             next_state \u001b[38;5;241m=\u001b[39m \u001b[38;5;28mself\u001b[39m\u001b[38;5;241m.\u001b[39mmemory_systems\u001b[38;5;241m.\u001b[39mreturn_as_a_dict_list()\n\u001b[1;32m    297\u001b[0m         new_episode_starts \u001b[38;5;241m=\u001b[39m \u001b[38;5;28;01mFalse\u001b[39;00m\n\u001b[0;32m--> 299\u001b[0m actor_loss, critic_loss \u001b[38;5;241m=\u001b[39m \u001b[43mupdate_model\u001b[49m\u001b[43m(\u001b[49m\n\u001b[1;32m    300\u001b[0m \u001b[43m    \u001b[49m\u001b[43mnext_state\u001b[49m\u001b[43m,\u001b[49m\n\u001b[1;32m    301\u001b[0m \u001b[43m    \u001b[49m\u001b[43mstates_buffer\u001b[49m\u001b[43m,\u001b[49m\n\u001b[1;32m    302\u001b[0m \u001b[43m    \u001b[49m\u001b[43mactions_buffer\u001b[49m\u001b[43m,\u001b[49m\n\u001b[1;32m    303\u001b[0m \u001b[43m    \u001b[49m\u001b[43mrewards_buffer\u001b[49m\u001b[43m,\u001b[49m\n\u001b[1;32m    304\u001b[0m \u001b[43m    \u001b[49m\u001b[43mvalues_buffer\u001b[49m\u001b[43m,\u001b[49m\n\u001b[1;32m    305\u001b[0m \u001b[43m    \u001b[49m\u001b[43mmasks_buffer\u001b[49m\u001b[43m,\u001b[49m\n\u001b[1;32m    306\u001b[0m \u001b[43m    \u001b[49m\u001b[43mlog_probs_buffer\u001b[49m\u001b[43m,\u001b[49m\n\u001b[1;32m    307\u001b[0m \u001b[43m    \u001b[49m\u001b[38;5;28;43mself\u001b[39;49m\u001b[38;5;241;43m.\u001b[39;49m\u001b[43mgamma\u001b[49m\u001b[43m,\u001b[49m\n\u001b[1;32m    308\u001b[0m \u001b[43m    \u001b[49m\u001b[38;5;28;43mself\u001b[39;49m\u001b[38;5;241;43m.\u001b[39;49m\u001b[43mtau\u001b[49m\u001b[43m,\u001b[49m\n\u001b[1;32m    309\u001b[0m \u001b[43m    \u001b[49m\u001b[38;5;28;43mself\u001b[39;49m\u001b[38;5;241;43m.\u001b[39;49m\u001b[43mepoch\u001b[49m\u001b[43m,\u001b[49m\n\u001b[1;32m    310\u001b[0m \u001b[43m    \u001b[49m\u001b[38;5;28;43mself\u001b[39;49m\u001b[38;5;241;43m.\u001b[39;49m\u001b[43mbatch_size\u001b[49m\u001b[43m,\u001b[49m\n\u001b[1;32m    311\u001b[0m \u001b[43m    \u001b[49m\u001b[38;5;28;43mself\u001b[39;49m\u001b[38;5;241;43m.\u001b[39;49m\u001b[43mepsilon\u001b[49m\u001b[43m,\u001b[49m\n\u001b[1;32m    312\u001b[0m \u001b[43m    \u001b[49m\u001b[38;5;28;43mself\u001b[39;49m\u001b[38;5;241;43m.\u001b[39;49m\u001b[43mentropy_weight\u001b[49m\u001b[43m,\u001b[49m\n\u001b[1;32m    313\u001b[0m \u001b[43m    \u001b[49m\u001b[38;5;28;43mself\u001b[39;49m\u001b[38;5;241;43m.\u001b[39;49m\u001b[43mactor\u001b[49m\u001b[43m,\u001b[49m\n\u001b[1;32m    314\u001b[0m \u001b[43m    \u001b[49m\u001b[38;5;28;43mself\u001b[39;49m\u001b[38;5;241;43m.\u001b[39;49m\u001b[43mcritic\u001b[49m\u001b[43m,\u001b[49m\n\u001b[1;32m    315\u001b[0m \u001b[43m    \u001b[49m\u001b[38;5;28;43mself\u001b[39;49m\u001b[38;5;241;43m.\u001b[39;49m\u001b[43mactor_optimizer\u001b[49m\u001b[43m,\u001b[49m\n\u001b[1;32m    316\u001b[0m \u001b[43m    \u001b[49m\u001b[38;5;28;43mself\u001b[39;49m\u001b[38;5;241;43m.\u001b[39;49m\u001b[43mcritic_optimizer\u001b[49m\u001b[43m,\u001b[49m\n\u001b[1;32m    317\u001b[0m \u001b[43m\u001b[49m\u001b[43m)\u001b[49m\n\u001b[1;32m    319\u001b[0m \u001b[38;5;28mself\u001b[39m\u001b[38;5;241m.\u001b[39mactor_losses\u001b[38;5;241m.\u001b[39mappend(actor_loss)\n\u001b[1;32m    320\u001b[0m \u001b[38;5;28mself\u001b[39m\u001b[38;5;241m.\u001b[39mcritic_losses\u001b[38;5;241m.\u001b[39mappend(critic_loss)\n",
      "File \u001b[0;32m~/repos/explicit-memory-private/explicit_memory/utils/ppo.py:209\u001b[0m, in \u001b[0;36mupdate_model\u001b[0;34m(next_state, states, actions, rewards, values, masks, log_probs, gamma, tau, epoch, batch_size, epsilon, entropy_weight, actor, critic, actor_optimizer, critic_optimizer)\u001b[0m\n\u001b[1;32m    161\u001b[0m \u001b[38;5;28;01mdef\u001b[39;00m \u001b[38;5;21mupdate_model\u001b[39m(\n\u001b[1;32m    162\u001b[0m     next_state: \u001b[38;5;28mdict\u001b[39m,\n\u001b[1;32m    163\u001b[0m     states: \u001b[38;5;28mlist\u001b[39m,\n\u001b[0;32m   (...)\u001b[0m\n\u001b[1;32m    178\u001b[0m     critic_optimizer: torch\u001b[38;5;241m.\u001b[39moptim\u001b[38;5;241m.\u001b[39mAdam,\n\u001b[1;32m    179\u001b[0m ) \u001b[38;5;241m-\u001b[39m\u001b[38;5;241m>\u001b[39m \u001b[38;5;28mtuple\u001b[39m[torch\u001b[38;5;241m.\u001b[39mTensor, torch\u001b[38;5;241m.\u001b[39mTensor]:\n\u001b[1;32m    180\u001b[0m \u001b[38;5;250m    \u001b[39m\u001b[38;5;124;03m\"\"\"Update the model by gradient descent.\u001b[39;00m\n\u001b[1;32m    181\u001b[0m \n\u001b[1;32m    182\u001b[0m \u001b[38;5;124;03m    This function uses the rollout buffer (states, actions, rewards, values, masks, and\u001b[39;00m\n\u001b[0;32m   (...)\u001b[0m\n\u001b[1;32m    207\u001b[0m \n\u001b[1;32m    208\u001b[0m \u001b[38;5;124;03m    \"\"\"\u001b[39;00m\n\u001b[0;32m--> 209\u001b[0m     \u001b[38;5;28;01massert\u001b[39;00m \u001b[38;5;28mlen\u001b[39m(states) \u001b[38;5;241m==\u001b[39m \u001b[38;5;28mlen\u001b[39m(actions) \u001b[38;5;241m==\u001b[39m \u001b[38;5;28mlen\u001b[39m(rewards) \u001b[38;5;241m==\u001b[39m \u001b[38;5;28mlen\u001b[39m(values) \u001b[38;5;241m==\u001b[39m \u001b[38;5;28mlen\u001b[39m(masks), (\n\u001b[1;32m    210\u001b[0m         \u001b[38;5;124mf\u001b[39m\u001b[38;5;124m\"\u001b[39m\u001b[38;5;124mThe length of states, actions, rewards, values, and masks must be the same, \u001b[39m\u001b[38;5;124m\"\u001b[39m\n\u001b[1;32m    211\u001b[0m         \u001b[38;5;124mf\u001b[39m\u001b[38;5;124m\"\u001b[39m\u001b[38;5;124mbut they are \u001b[39m\u001b[38;5;132;01m{\u001b[39;00m\u001b[38;5;28mlen\u001b[39m(states)\u001b[38;5;132;01m}\u001b[39;00m\u001b[38;5;124m, \u001b[39m\u001b[38;5;132;01m{\u001b[39;00m\u001b[38;5;28mlen\u001b[39m(actions)\u001b[38;5;132;01m}\u001b[39;00m\u001b[38;5;124m, \u001b[39m\u001b[38;5;132;01m{\u001b[39;00m\u001b[38;5;28mlen\u001b[39m(rewards)\u001b[38;5;132;01m}\u001b[39;00m\u001b[38;5;124m, \u001b[39m\u001b[38;5;132;01m{\u001b[39;00m\u001b[38;5;28mlen\u001b[39m(values)\u001b[38;5;132;01m}\u001b[39;00m\u001b[38;5;124m, \u001b[39m\u001b[38;5;124m\"\u001b[39m\n\u001b[1;32m    212\u001b[0m         \u001b[38;5;124mf\u001b[39m\u001b[38;5;124m\"\u001b[39m\u001b[38;5;124mand \u001b[39m\u001b[38;5;132;01m{\u001b[39;00m\u001b[38;5;28mlen\u001b[39m(masks)\u001b[38;5;132;01m}\u001b[39;00m\u001b[38;5;124m.\u001b[39m\u001b[38;5;124m\"\u001b[39m\n\u001b[1;32m    213\u001b[0m     )\n\u001b[1;32m    215\u001b[0m     next_value \u001b[38;5;241m=\u001b[39m critic(np\u001b[38;5;241m.\u001b[39marray([next_state]))\n\u001b[1;32m    217\u001b[0m     returns \u001b[38;5;241m=\u001b[39m compute_gae(next_value, rewards, masks, values, gamma, tau)\n",
      "\u001b[0;31mAssertionError\u001b[0m: The length of states, actions, rewards, values, and masks must be the same, but they are 4566, 4566, 334800, 4566, and 334800."
     ]
    }
   ],
   "source": [
    "from agent import PPOMMAgent\n",
    "from tqdm.auto import tqdm\n",
    "import random\n",
    "from copy import deepcopy\n",
    "import logging\n",
    "import random\n",
    "\n",
    "logger = logging.getLogger()\n",
    "logger.disabled = True\n",
    "\n",
    "\n",
    "params_all = []\n",
    "for _ in range(1000):\n",
    "    params = {\n",
    "        \"env_str\": \"room_env:RoomEnv-v2\",\n",
    "        \"num_episodes\": 16,\n",
    "        \"rollout_multiples\": random.choice([1, 2, 4, 8]),\n",
    "        \"epoch\": random.choice([4, 8, 16, 32, 64]),\n",
    "        \"batch_size\": random.choice([16, 32, 64, 128]),\n",
    "        \"gamma\": random.uniform(0.5, 0.99),\n",
    "        \"tau\": random.uniform(0.9, 0.97),\n",
    "        \"epsilon\": random.uniform(0.1, 0.3),\n",
    "        \"entropy_weight\": random.uniform(0.001, 0.1),\n",
    "        \"capacity\": {\n",
    "            \"episodic\": 16,\n",
    "            \"episodic_agent\": 0,\n",
    "            \"semantic\": 16,\n",
    "            \"semantic_map\": 0,\n",
    "            \"short\": 1,\n",
    "        },\n",
    "        \"pretrain_semantic\": False,\n",
    "        \"nn_params\": {\n",
    "            \"architecture\": \"lstm\",\n",
    "            \"hidden_size\": 64,\n",
    "            \"num_layers\": 2,\n",
    "            \"embedding_dim\": 64,\n",
    "            \"make_categorical_embeddings\": False,\n",
    "            \"v1_params\": None,\n",
    "            \"v2_params\": {},\n",
    "            \"memory_of_interest\": [\n",
    "                \"episodic\",\n",
    "                \"semantic\",\n",
    "                \"short\",\n",
    "            ],\n",
    "            \"fuse_information\": \"sum\",\n",
    "            \"include_positional_encoding\": True,\n",
    "            \"max_timesteps\": 100,\n",
    "            \"max_strength\": 100,\n",
    "        },\n",
    "        \"run_test\": True,\n",
    "        \"num_samples_for_results\": 10,\n",
    "        \"train_seed\": 5,\n",
    "        \"test_seed\": 0,\n",
    "        \"device\": \"cpu\",\n",
    "        \"qa_policy\": \"episodic_semantic\",\n",
    "        \"explore_policy\": \"avoid_walls\",\n",
    "        \"env_config\": {\n",
    "            \"question_prob\": 1.0,\n",
    "            \"terminates_at\": 99,\n",
    "            \"randomize_observations\": \"objects\",\n",
    "            \"room_size\": \"l\",\n",
    "            \"rewards\": {\"correct\": 1, \"wrong\": 0, \"partial\": 0},\n",
    "            \"make_everything_static\": False,\n",
    "            \"num_total_questions\": 1000,\n",
    "            \"question_interval\": 1,\n",
    "            \"include_walls_in_observations\": True,\n",
    "        },\n",
    "        \"split_reward_training\": False,\n",
    "        \"default_root_dir\": \"./training_results/PPO\",\n",
    "        \"run_handcrafted_baselines\": None,\n",
    "    }\n",
    "    params_all.append(params)\n",
    "\n",
    "for params in tqdm(params_all):\n",
    "    agent = PPOMMAgent(**params)\n",
    "    agent.train()"
   ]
  }
 ],
 "metadata": {
  "kernelspec": {
   "display_name": "human-memory",
   "language": "python",
   "name": "python3"
  },
  "language_info": {
   "codemirror_mode": {
    "name": "ipython",
    "version": 3
   },
   "file_extension": ".py",
   "mimetype": "text/x-python",
   "name": "python",
   "nbconvert_exporter": "python",
   "pygments_lexer": "ipython3",
   "version": "3.10.12"
  },
  "orig_nbformat": 4
 },
 "nbformat": 4,
 "nbformat_minor": 2
}
