{
 "cells": [
  {
   "cell_type": "code",
   "execution_count": 14,
   "metadata": {},
   "outputs": [],
   "source": [
    "room_config = {\n",
    "    \"officeroom\": {\n",
    "        \"north\": \"wall\",\n",
    "        \"east\": \"livingroom\",\n",
    "        \"south\": \"wall\",\n",
    "        \"west\": \"wall\",\n",
    "    },\n",
    "    \"livingroom\": {\n",
    "        \"north\": \"wall\",\n",
    "        \"east\": \"wall\",\n",
    "        \"south\": \"bedroom\",\n",
    "        \"west\": \"officeroom\",\n",
    "    },\n",
    "    \"bedroom\": {\n",
    "        \"north\": \"livingroom\",\n",
    "        \"east\": \"wall\",\n",
    "        \"south\": \"wall\",\n",
    "        \"west\": \"wall\",\n",
    "    },\n",
    "}\n",
    "\n",
    "\n",
    "object_transition_config = {\n",
    "    \"static\": {\"bed\": None, \"desk\": None, \"table\": None},\n",
    "    \"independent\": {\n",
    "        \"tae\": {\n",
    "            \"officeroom\": {\"north\": 0, \"east\": 0.1, \"south\": 0, \"west\": 0, \"stay\": 0.9},\n",
    "            \"livingroom\": {\n",
    "                \"north\": 0,\n",
    "                \"east\": 0,\n",
    "                \"south\": 0,\n",
    "                \"west\": 0.1,\n",
    "                \"stay\": 0.9,\n",
    "            },\n",
    "            \"bedroom\": {\"north\": 0, \"east\": 0, \"south\": 0, \"west\": 0, \"stay\": 0},\n",
    "        },\n",
    "        \"michael\": {\n",
    "            \"officeroom\": {\n",
    "                \"north\": 0,\n",
    "                \"east\": 0,\n",
    "                \"south\": 0,\n",
    "                \"west\": 0,\n",
    "                \"stay\": 0,\n",
    "            },\n",
    "            \"livingroom\": {\n",
    "                \"north\": 0,\n",
    "                \"east\": 0,\n",
    "                \"south\": 0.9,\n",
    "                \"west\": 0,\n",
    "                \"stay\": 0.1,\n",
    "            },\n",
    "            \"bedroom\": {\"north\": 0.1, \"east\": 0, \"south\": 0, \"west\": 0, \"stay\": 0.9},\n",
    "        },\n",
    "        \"vincent\": {\n",
    "            \"officeroom\": {\n",
    "                \"north\": 0,\n",
    "                \"east\": 0.5,\n",
    "                \"south\": 0,\n",
    "                \"west\": 0,\n",
    "                \"stay\": 0.5,\n",
    "            },\n",
    "            \"livingroom\": {\n",
    "                \"north\": 0,\n",
    "                \"east\": 0,\n",
    "                \"south\": 0.333,\n",
    "                \"west\": 0.333,\n",
    "                \"stay\": 0.333,\n",
    "            },\n",
    "            \"bedroom\": {\n",
    "                \"north\": 0.5,\n",
    "                \"east\": 0,\n",
    "                \"south\": 0,\n",
    "                \"west\": 0,\n",
    "                \"stay\": 0.5,\n",
    "            },\n",
    "        },\n",
    "    },\n",
    "    \"dependent\": {\n",
    "        \"laptop\": {\"tae\": 0.7, \"michael\": 0.4, \"vincent\": 0.1},\n",
    "        \"phone\": {\"tae\": 0.1, \"michael\": 0.7, \"vincent\": 0.4},\n",
    "        \"headset\": {\"tae\": 0.4, \"michael\": 0.1, \"vincent\": 0.9},\n",
    "    },\n",
    "    \"agent\": {\n",
    "        \"agent\": {\"officeroom\": None, \"livingroom\": None, \"bedroom\": None},\n",
    "    },\n",
    "}\n",
    "\n",
    "object_init_config = {\n",
    "    \"static\": {\n",
    "        \"bed\": {\"officeroom\": 0, \"livingroom\": 0, \"bedroom\": 1},\n",
    "        \"desk\": {\"officeroom\": 1, \"livingroom\": 0, \"bedroom\": 0},\n",
    "        \"table\": {\"officeroom\": 0, \"livingroom\": 1, \"bedroom\": 0},\n",
    "    },\n",
    "    \"independent\": {\n",
    "        \"tae\": {\"officeroom\": 0.5, \"livingroom\": 0.5, \"bedroom\": 0},\n",
    "        \"michael\": {\"officeroom\": 0, \"livingroom\": 0.5, \"bedroom\": 0.5},\n",
    "        \"vincent\": {\"officeroom\": 0.333, \"livingroom\": 0.333, \"bedroom\": 0.333},\n",
    "    },\n",
    "    \"dependent\": {\n",
    "        \"laptop\": {\"officeroom\": 0.333, \"livingroom\": 0.333, \"bedroom\": 0.333},\n",
    "        \"phone\": {\"officeroom\": 0.333, \"livingroom\": 0.333, \"bedroom\": 0.333},\n",
    "        \"headset\": {\"officeroom\": 0.333, \"livingroom\": 0.333, \"bedroom\": 0.333},\n",
    "    },\n",
    "    \"agent\": {\n",
    "        \"agent\": {\"officeroom\": 0.333, \"livingroom\": 0.333, \"bedroom\": 0.333},\n",
    "    },\n",
    "}\n",
    "\n",
    "config = {\n",
    "    \"room_config\": room_config,\n",
    "    \"object_transition_config\": object_transition_config,\n",
    "    \"object_init_config\": object_init_config,\n",
    "    \"question_prob\": 1.0,\n",
    "    \"seed\": 42,\n",
    "    \"terminates_at\": 99,\n",
    "}\n"
   ]
  },
  {
   "cell_type": "code",
   "execution_count": 15,
   "metadata": {},
   "outputs": [
    {
     "name": "stderr",
     "output_type": "stream",
     "text": [
      "/home/tk/.virtualenvs/human-memory/lib/python3.9/site-packages/gymnasium/envs/registration.py:491: UserWarning: \u001b[33mWARN: The environment creator metadata doesn't include `render_modes`, contains: ['render.modes']\u001b[0m\n",
      "  logger.warn(\n",
      "/home/tk/.virtualenvs/human-memory/lib/python3.9/site-packages/gymnasium/utils/passive_env_checker.py:197: DeprecationWarning: \u001b[33mWARN: Current gymnasium version requires that `Env.reset` can be passed a `seed` instead of using `Env.seed` for resetting the environment random number generator.\u001b[0m\n",
      "  logger.deprecation(\n",
      "/home/tk/.virtualenvs/human-memory/lib/python3.9/site-packages/gymnasium/utils/passive_env_checker.py:210: DeprecationWarning: \u001b[33mWARN: Current gymnasium version requires that `Env.reset` can be passed `options` to allow the environment initialisation to be passed additional information.\u001b[0m\n",
      "  logger.deprecation(\n",
      "/home/tk/.virtualenvs/human-memory/lib/python3.9/site-packages/gymnasium/utils/passive_env_checker.py:156: UserWarning: \u001b[33mWARN: The obs returned by the `reset()` method should be an int or np.int64, actual type: <class 'tuple'>\u001b[0m\n",
      "  logger.warn(f\"{pre} should be an int or np.int64, actual type: {type(obs)}\")\n",
      "/home/tk/.virtualenvs/human-memory/lib/python3.9/site-packages/gymnasium/utils/passive_env_checker.py:188: UserWarning: \u001b[33mWARN: The obs returned by the `reset()` method is not within the observation space.\u001b[0m\n",
      "  logger.warn(f\"{pre} is not within the observation space.\")\n",
      "/home/tk/.virtualenvs/human-memory/lib/python3.9/site-packages/gymnasium/utils/passive_env_checker.py:156: UserWarning: \u001b[33mWARN: The obs returned by the `step()` method should be an int or np.int64, actual type: <class 'tuple'>\u001b[0m\n",
      "  logger.warn(f\"{pre} should be an int or np.int64, actual type: {type(obs)}\")\n",
      "/home/tk/.virtualenvs/human-memory/lib/python3.9/site-packages/gymnasium/utils/passive_env_checker.py:188: UserWarning: \u001b[33mWARN: The obs returned by the `step()` method is not within the observation space.\u001b[0m\n",
      "  logger.warn(f\"{pre} is not within the observation space.\")\n"
     ]
    }
   ],
   "source": [
    "import gymnasium as gym\n",
    "import random\n",
    "\n",
    "env = gym.make(\"room_env:RoomEnv-v2\", **config)\n",
    "(obs, question), info = env.reset()\n",
    "while True:\n",
    "    action_qa = \"livingroom\"\n",
    "    action_explore = random.choice([\"north\", \"east\", \"south\", \"west\", \"stay\"])\n",
    "    (obs, question), reward, done, truncated, info = env.step((\"wall\", action_explore))\n",
    "    if done:\n",
    "        break\n"
   ]
  },
  {
   "cell_type": "code",
   "execution_count": 3,
   "metadata": {},
   "outputs": [
    {
     "data": {
      "text/plain": [
       "([['livingroom', 'tothenorth', 'wall', 100],\n",
       "  ['livingroom', 'totheeast', 'wall', 100],\n",
       "  ['livingroom', 'tothesouth', 'bedroom', 100],\n",
       "  ['livingroom', 'tothewest', 'officeroom', 100],\n",
       "  ['table', 'atlocation', 'livingroom', 100],\n",
       "  ['vincent', 'atlocation', 'livingroom', 100],\n",
       "  ['headset', 'atlocation', 'livingroom', 100],\n",
       "  ['agent', 'atlocation', 'livingroom', 100]],\n",
       " ['table', 'atlocation', '?', 100])"
      ]
     },
     "execution_count": 3,
     "metadata": {},
     "output_type": "execute_result"
    }
   ],
   "source": [
    "obs, question"
   ]
  },
  {
   "cell_type": "code",
   "execution_count": 16,
   "metadata": {},
   "outputs": [
    {
     "data": {
      "text/plain": [
       "[['officeroom', 'tothenorth', 'wall', 100],\n",
       " ['officeroom', 'totheeast', 'livingroom', 100],\n",
       " ['officeroom', 'tothesouth', 'wall', 100],\n",
       " ['officeroom', 'tothewest', 'wall', 100],\n",
       " ['livingroom', 'tothenorth', 'wall', 100],\n",
       " ['livingroom', 'totheeast', 'wall', 100],\n",
       " ['livingroom', 'tothesouth', 'bedroom', 100],\n",
       " ['livingroom', 'tothewest', 'officeroom', 100],\n",
       " ['bedroom', 'tothenorth', 'livingroom', 100],\n",
       " ['bedroom', 'totheeast', 'wall', 100],\n",
       " ['bedroom', 'tothesouth', 'wall', 100],\n",
       " ['bedroom', 'tothewest', 'wall', 100],\n",
       " ['bed', 'atlocation', 'bedroom', 100],\n",
       " ['desk', 'atlocation', 'officeroom', 100],\n",
       " ['table', 'atlocation', 'livingroom', 100],\n",
       " ['tae', 'atlocation', 'officeroom', 100],\n",
       " ['michael', 'atlocation', 'bedroom', 100],\n",
       " ['vincent', 'atlocation', 'livingroom', 100],\n",
       " ['laptop', 'atlocation', 'officeroom', 100],\n",
       " ['phone', 'atlocation', 'bedroom', 100],\n",
       " ['headset', 'atlocation', 'livingroom', 100],\n",
       " ['agent', 'atlocation', 'livingroom', 100]]"
      ]
     },
     "execution_count": 16,
     "metadata": {},
     "output_type": "execute_result"
    }
   ],
   "source": [
    "env.hidden_global_state\n"
   ]
  },
  {
   "cell_type": "code",
   "execution_count": 5,
   "metadata": {},
   "outputs": [],
   "source": [
    "import datetime\n",
    "import random\n",
    "from explicit_memory.memory import EpisodicMemory, SemanticMemory, ShortMemory\n",
    "\n",
    "\n",
    "class HandCraftedAgent:\n",
    "    \"\"\"Handcrafted agent interacting with environment.\n",
    "\n",
    "    This agent explores the roooms, i.e., KGs. The exploration can be uniform-random,\n",
    "    or just avoiding walls.\n",
    "\n",
    "    \"\"\"\n",
    "\n",
    "    def __init__(\n",
    "        self,\n",
    "        env_str: str = \"room_env:RoomEnv-v2\",\n",
    "        env_config: dict = None,\n",
    "        policy: str = \"random\",\n",
    "        num_samples_for_results: int = 10,\n",
    "        test_seed: int = 42,\n",
    "        capacity: dict = {\n",
    "            \"episodic\": 8,\n",
    "            \"semantic\": 8,\n",
    "            \"short\": 32,\n",
    "        },\n",
    "    ) -> None:\n",
    "        \"\"\"Initialize the agent.\n",
    "\n",
    "        Args\n",
    "        ----\n",
    "        env_str: This has to be \"room_env:RoomEnv-v2\"\n",
    "        env_config: The configuration of the environment.\n",
    "        policy: The room exploration policy. Choose one of \"random\", \"avoid_walls\"\n",
    "        num_samples_for_results: The number of samples to validate / test the agent.\n",
    "        test_seed: The random seed for test.\n",
    "        capacity: The capacity of each human-like memory systems.\n",
    "\n",
    "        \"\"\"\n",
    "        self.all_params = deepcopy(locals())\n",
    "        del self.all_params[\"self\"]\n",
    "        self.env_str = env_str\n",
    "        self.env_config = env_config\n",
    "        self.env_config[\"seed\"] = test_seed\n",
    "        self.policy = policy\n",
    "        assert self.policy in [\"random\", \"avoid_walls\"]\n",
    "        self.num_samples_for_results = num_samples_for_results\n",
    "        self.test_seed = test_seed\n",
    "        self.capacity = capacity\n",
    "\n",
    "        self.env = gym.make(self.env_str, **env_config)\n",
    "\n",
    "        self.default_root_dir = f\"./training_results/{str(datetime.datetime.now())}\"\n",
    "        os.makedirs(self.default_root_dir, exist_ok=True)\n",
    "\n",
    "    def init_memory_systems(self, num_actions: int = 5) -> None:\n",
    "        \"\"\"Initialize the agent's memory systems. This has nothing to do with the\n",
    "        replay buffer.\"\"\"\n",
    "        self.action_space = gym.spaces.Discrete(num_actions)\n",
    "        self.memory_systems = {\n",
    "            \"episodic\": EpisodicMemory(capacity=self.capacity[\"episodic\"]),\n",
    "            \"semantic\": SemanticMemory(capacity=self.capacity[\"semantic\"]),\n",
    "            \"short\": ShortMemory(capacity=self.capacity[\"short\"]),\n",
    "        }\n"
   ]
  },
  {
   "cell_type": "code",
   "execution_count": 6,
   "metadata": {},
   "outputs": [],
   "source": [
    "memory_systems = {\n",
    "    \"episodic\": EpisodicMemory(capacity=4),\n",
    "    \"semantic\": SemanticMemory(capacity=4),\n",
    "    \"short\": ShortMemory(capacity=2),\n",
    "}\n"
   ]
  },
  {
   "cell_type": "code",
   "execution_count": 7,
   "metadata": {},
   "outputs": [],
   "source": [
    "import gymnasium as gym\n",
    "import random\n",
    "\n",
    "env = gym.make(\"room_env:RoomEnv-v2\", **config)\n",
    "(obs, question), info = env.reset()\n",
    "obs_len = []\n",
    "obs_len.append(len(obs))\n",
    "obs_all = []\n",
    "obs_all.append(obs)\n",
    "while True:\n",
    "    action_qa = \"livingroom\"\n",
    "    action_explore = random.choice([\"north\", \"east\", \"south\", \"west\", \"stay\"])\n",
    "    (obs, question), reward, done, truncated, info = env.step((\"wall\", action_explore))\n",
    "    if done:\n",
    "        break\n",
    "    obs_len.append(len(obs))\n",
    "    obs_all.append(obs)"
   ]
  },
  {
   "cell_type": "code",
   "execution_count": 9,
   "metadata": {},
   "outputs": [
    {
     "name": "stderr",
     "output_type": "stream",
     "text": [
      "2023-09-04 12:59:10.701 INFO memory - add: memory entry {'human': None, 'object': 'tae', 'object_location': 'livingroom', 'timestamp': 0} added. Now there are in total of 1 memories!\n"
     ]
    },
    {
     "data": {
      "text/plain": [
       "{   '_frozen': False,\n",
       "    'capacity': 4,\n",
       "    'entries': [   {   'human': None,\n",
       "                       'object': 'tae',\n",
       "                       'object_location': 'livingroom',\n",
       "                       'timestamp': 0}],\n",
       "    'remove_duplicates': False,\n",
       "    'type': 'episodic'}"
      ]
     },
     "execution_count": 9,
     "metadata": {},
     "output_type": "execute_result"
    }
   ],
   "source": [
    "foo = EpisodicMemory(4, False)\n",
    "foo.add(\n",
    "    {\"human\": None, \"object\": \"tae\", \"object_location\": \"livingroom\", \"timestamp\": 0}\n",
    ")\n",
    "foo"
   ]
  },
  {
   "cell_type": "code",
   "execution_count": 10,
   "metadata": {},
   "outputs": [
    {
     "name": "stderr",
     "output_type": "stream",
     "text": [
      "2023-09-04 12:59:12.762 INFO memory - add: memory entry {'human': None, 'object': 'tae', 'object_location': 'officeroom', 'timestamp': 0} added. Now there are in total of 2 memories!\n"
     ]
    },
    {
     "data": {
      "text/plain": [
       "{   '_frozen': False,\n",
       "    'capacity': 4,\n",
       "    'entries': [   {   'human': None,\n",
       "                       'object': 'tae',\n",
       "                       'object_location': 'livingroom',\n",
       "                       'timestamp': 0},\n",
       "                   {   'human': None,\n",
       "                       'object': 'tae',\n",
       "                       'object_location': 'officeroom',\n",
       "                       'timestamp': 0}],\n",
       "    'remove_duplicates': False,\n",
       "    'type': 'episodic'}"
      ]
     },
     "execution_count": 10,
     "metadata": {},
     "output_type": "execute_result"
    }
   ],
   "source": [
    "foo.add(\n",
    "    {\"human\": None, \"object\": \"tae\", \"object_location\": \"officeroom\", \"timestamp\": 0}\n",
    ")\n",
    "\n",
    "foo"
   ]
  },
  {
   "cell_type": "code",
   "execution_count": 11,
   "metadata": {},
   "outputs": [
    {
     "name": "stderr",
     "output_type": "stream",
     "text": [
      "2023-09-04 12:59:13.522 INFO memory - add: memory entry {'human': None, 'object': 'tae', 'object_location': 'livingroom', 'timestamp': 1} added. Now there are in total of 3 memories!\n"
     ]
    },
    {
     "data": {
      "text/plain": [
       "{   '_frozen': False,\n",
       "    'capacity': 4,\n",
       "    'entries': [   {   'human': None,\n",
       "                       'object': 'tae',\n",
       "                       'object_location': 'livingroom',\n",
       "                       'timestamp': 0},\n",
       "                   {   'human': None,\n",
       "                       'object': 'tae',\n",
       "                       'object_location': 'officeroom',\n",
       "                       'timestamp': 0},\n",
       "                   {   'human': None,\n",
       "                       'object': 'tae',\n",
       "                       'object_location': 'livingroom',\n",
       "                       'timestamp': 1}],\n",
       "    'remove_duplicates': False,\n",
       "    'type': 'episodic'}"
      ]
     },
     "execution_count": 11,
     "metadata": {},
     "output_type": "execute_result"
    }
   ],
   "source": [
    "foo.add(\n",
    "    {\"human\": None, \"object\": \"tae\", \"object_location\": \"livingroom\", \"timestamp\": 1}\n",
    ")\n",
    "\n",
    "foo\n"
   ]
  },
  {
   "cell_type": "code",
   "execution_count": null,
   "metadata": {},
   "outputs": [],
   "source": [
    "mems = [\n",
    "    [\"foo\", \"atlocation\", \"bar\", 0],\n",
    "    [\"foo\", \"atlocation\", \"bad\", 1],\n",
    "]"
   ]
  },
  {
   "cell_type": "code",
   "execution_count": null,
   "metadata": {},
   "outputs": [],
   "source": [
    "mems.remove([\"foo\", \"atlocation\", \"bar\", 0])\n"
   ]
  },
  {
   "cell_type": "code",
   "execution_count": null,
   "metadata": {},
   "outputs": [
    {
     "data": {
      "text/plain": [
       "[['foo', 'atlocation', 'bad', 1]]"
      ]
     },
     "execution_count": 57,
     "metadata": {},
     "output_type": "execute_result"
    }
   ],
   "source": [
    "mems\n"
   ]
  },
  {
   "cell_type": "code",
   "execution_count": 13,
   "metadata": {},
   "outputs": [
    {
     "data": {
      "text/plain": [
       "[{'human': None,\n",
       "  'object': 'tae',\n",
       "  'object_location': 'livingroom',\n",
       "  'timestamp': 0},\n",
       " {'human': None,\n",
       "  'object': 'tae',\n",
       "  'object_location': 'officeroom',\n",
       "  'timestamp': 0},\n",
       " {'human': None,\n",
       "  'object': 'tae',\n",
       "  'object_location': 'livingroom',\n",
       "  'timestamp': 1}]"
      ]
     },
     "execution_count": 13,
     "metadata": {},
     "output_type": "execute_result"
    }
   ],
   "source": [
    "foo.return_as_lists()\n"
   ]
  }
 ],
 "metadata": {
  "kernelspec": {
   "display_name": "human-memory",
   "language": "python",
   "name": "python3"
  },
  "language_info": {
   "codemirror_mode": {
    "name": "ipython",
    "version": 3
   },
   "file_extension": ".py",
   "mimetype": "text/x-python",
   "name": "python",
   "nbconvert_exporter": "python",
   "pygments_lexer": "ipython3",
   "version": "3.9.18"
  },
  "orig_nbformat": 4
 },
 "nbformat": 4,
 "nbformat_minor": 2
}
