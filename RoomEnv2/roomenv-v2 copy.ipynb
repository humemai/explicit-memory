{
 "cells": [
  {
   "cell_type": "code",
   "execution_count": 1,
   "metadata": {},
   "outputs": [
    {
     "name": "stdout",
     "output_type": "stream",
     "text": [
      "random random random\n"
     ]
    },
    {
     "data": {
      "application/vnd.jupyter.widget-view+json": {
       "model_id": "0c31e077ba9644e0a055a5f63bd6355d",
       "version_major": 2,
       "version_minor": 0
      },
      "text/plain": [
       "  0%|          | 0/5 [00:00<?, ?it/s]"
      ]
     },
     "metadata": {},
     "output_type": "display_data"
    },
    {
     "name": "stderr",
     "output_type": "stream",
     "text": [
      "/home/tk/.virtualenvs/human-memory/lib/python3.9/site-packages/gymnasium/envs/registration.py:491: UserWarning: \u001b[33mWARN: The environment creator metadata doesn't include `render_modes`, contains: ['render.modes']\u001b[0m\n",
      "  logger.warn(\n",
      "/home/tk/.virtualenvs/human-memory/lib/python3.9/site-packages/gymnasium/utils/passive_env_checker.py:197: DeprecationWarning: \u001b[33mWARN: Current gymnasium version requires that `Env.reset` can be passed a `seed` instead of using `Env.seed` for resetting the environment random number generator.\u001b[0m\n",
      "  logger.deprecation(\n",
      "/home/tk/.virtualenvs/human-memory/lib/python3.9/site-packages/gymnasium/utils/passive_env_checker.py:210: DeprecationWarning: \u001b[33mWARN: Current gymnasium version requires that `Env.reset` can be passed `options` to allow the environment initialisation to be passed additional information.\u001b[0m\n",
      "  logger.deprecation(\n",
      "/home/tk/.virtualenvs/human-memory/lib/python3.9/site-packages/gymnasium/utils/passive_env_checker.py:156: UserWarning: \u001b[33mWARN: The obs returned by the `reset()` method should be an int or np.int64, actual type: <class 'tuple'>\u001b[0m\n",
      "  logger.warn(f\"{pre} should be an int or np.int64, actual type: {type(obs)}\")\n",
      "/home/tk/.virtualenvs/human-memory/lib/python3.9/site-packages/gymnasium/utils/passive_env_checker.py:188: UserWarning: \u001b[33mWARN: The obs returned by the `reset()` method is not within the observation space.\u001b[0m\n",
      "  logger.warn(f\"{pre} is not within the observation space.\")\n",
      "/home/tk/.virtualenvs/human-memory/lib/python3.9/site-packages/gymnasium/utils/passive_env_checker.py:156: UserWarning: \u001b[33mWARN: The obs returned by the `step()` method should be an int or np.int64, actual type: <class 'tuple'>\u001b[0m\n",
      "  logger.warn(f\"{pre} should be an int or np.int64, actual type: {type(obs)}\")\n",
      "/home/tk/.virtualenvs/human-memory/lib/python3.9/site-packages/gymnasium/utils/passive_env_checker.py:188: UserWarning: \u001b[33mWARN: The obs returned by the `step()` method is not within the observation space.\u001b[0m\n",
      "  logger.warn(f\"{pre} is not within the observation space.\")\n"
     ]
    },
    {
     "name": "stdout",
     "output_type": "stream",
     "text": [
      "(19.0, 12.239281024635394)\n",
      "(11.8, 14.323407415835103)\n",
      "(12.6, 9.340235543068493)\n",
      "(16.2, 7.972452571197899)\n",
      "(6.4, 13.32066064427737)\n",
      "random random avoid_walls\n"
     ]
    },
    {
     "data": {
      "application/vnd.jupyter.widget-view+json": {
       "model_id": "53af9503aca8480095450cfa41ed4647",
       "version_major": 2,
       "version_minor": 0
      },
      "text/plain": [
       "  0%|          | 0/5 [00:00<?, ?it/s]"
      ]
     },
     "metadata": {},
     "output_type": "display_data"
    },
    {
     "name": "stdout",
     "output_type": "stream",
     "text": [
      "(24.2, 5.89576118919347)\n",
      "(18.0, 3.794733192202055)\n",
      "(10.6, 8.946507698538015)\n",
      "(18.6, 14.887578715157144)\n",
      "(13.6, 14.60958589419974)\n",
      "random episodic_semantic random\n"
     ]
    },
    {
     "data": {
      "application/vnd.jupyter.widget-view+json": {
       "model_id": "fc332792d1914f3690139660687f21e9",
       "version_major": 2,
       "version_minor": 0
      },
      "text/plain": [
       "  0%|          | 0/5 [00:00<?, ?it/s]"
      ]
     },
     "metadata": {},
     "output_type": "display_data"
    },
    {
     "name": "stdout",
     "output_type": "stream",
     "text": [
      "(53.6, 10.423051376636307)\n",
      "(51.8, 9.053176238205019)\n",
      "(52.2, 12.50439922587247)\n",
      "(58.2, 10.057832768544126)\n",
      "(50.4, 11.056219968868202)\n",
      "random episodic_semantic avoid_walls\n"
     ]
    },
    {
     "data": {
      "application/vnd.jupyter.widget-view+json": {
       "model_id": "cd1ac9b3a5514f5d878dc265e9e08f83",
       "version_major": 2,
       "version_minor": 0
      },
      "text/plain": [
       "  0%|          | 0/5 [00:00<?, ?it/s]"
      ]
     },
     "metadata": {},
     "output_type": "display_data"
    },
    {
     "name": "stdout",
     "output_type": "stream",
     "text": [
      "(51.0, 7.912016177940993)\n",
      "(51.8, 9.693296652842108)\n",
      "(53.4, 11.525623627379128)\n",
      "(58.0, 7.9498427657407165)\n",
      "(55.8, 6.095900261651269)\n",
      "generalize random random\n"
     ]
    },
    {
     "data": {
      "application/vnd.jupyter.widget-view+json": {
       "model_id": "045bef074f6941e8998c57d2ed70c9ca",
       "version_major": 2,
       "version_minor": 0
      },
      "text/plain": [
       "  0%|          | 0/5 [00:00<?, ?it/s]"
      ]
     },
     "metadata": {},
     "output_type": "display_data"
    },
    {
     "name": "stdout",
     "output_type": "stream",
     "text": [
      "(26.2, 11.151681487560518)\n",
      "(25.6, 11.306635220082057)\n",
      "(31.4, 7.6446059414465575)\n",
      "(20.0, 9.838699100999074)\n",
      "(24.4, 11.551623262554921)\n",
      "generalize random avoid_walls\n"
     ]
    },
    {
     "data": {
      "application/vnd.jupyter.widget-view+json": {
       "model_id": "81f928e0b8ea44bd9cee9ced44e981e6",
       "version_major": 2,
       "version_minor": 0
      },
      "text/plain": [
       "  0%|          | 0/5 [00:00<?, ?it/s]"
      ]
     },
     "metadata": {},
     "output_type": "display_data"
    },
    {
     "name": "stdout",
     "output_type": "stream",
     "text": [
      "(28.4, 10.910545357588685)\n",
      "(37.2, 9.641576634555161)\n",
      "(34.6, 14.143549766589716)\n",
      "(38.0, 9.465727652959385)\n",
      "(23.6, 10.229369482035539)\n",
      "generalize episodic_semantic random\n"
     ]
    },
    {
     "data": {
      "application/vnd.jupyter.widget-view+json": {
       "model_id": "f44e13042ae24524ac3ee4b28ad36424",
       "version_major": 2,
       "version_minor": 0
      },
      "text/plain": [
       "  0%|          | 0/5 [00:00<?, ?it/s]"
      ]
     },
     "metadata": {},
     "output_type": "display_data"
    },
    {
     "name": "stdout",
     "output_type": "stream",
     "text": [
      "(56.4, 14.192955999368138)\n",
      "(56.0, 8.67179335547152)\n",
      "(60.4, 7.939773296511683)\n",
      "(61.4, 9.079647570252934)\n",
      "(59.6, 9.2)\n",
      "generalize episodic_semantic avoid_walls\n"
     ]
    },
    {
     "data": {
      "application/vnd.jupyter.widget-view+json": {
       "model_id": "c1bd8001bd7d4d51a7e3698b32a2df6c",
       "version_major": 2,
       "version_minor": 0
      },
      "text/plain": [
       "  0%|          | 0/5 [00:00<?, ?it/s]"
      ]
     },
     "metadata": {},
     "output_type": "display_data"
    },
    {
     "name": "stdout",
     "output_type": "stream",
     "text": [
      "(70.4, 7.578918128598566)\n",
      "(73.4, 4.565084884205331)\n",
      "(67.4, 7.952358140828418)\n",
      "(66.8, 8.009993757800315)\n",
      "(70.8, 8.726969691708572)\n"
     ]
    }
   ],
   "source": [
    "import logging\n",
    "\n",
    "logger = logging.getLogger()\n",
    "logger.disabled = True\n",
    "\n",
    "import numpy as np\n",
    "from tqdm.auto import tqdm\n",
    "\n",
    "from agent import HandcraftedAgent\n",
    "\n",
    "\n",
    "capacity = {\"episodic\": 16, \"semantic\": 16, \"short\": 16}\n",
    "\n",
    "config = {\n",
    "    \"question_prob\": 1.0,\n",
    "    \"seed\": 42,\n",
    "    \"terminates_at\": 99,\n",
    "}\n",
    "\n",
    "results = {}\n",
    "\n",
    "for memory_management_policy in [\"random\", \"generalize\"]:\n",
    "    for qa_policy in [\"random\", \"episodic_semantic\"]:\n",
    "        for explore_policy in [\"random\", \"avoid_walls\"]:\n",
    "            key = (memory_management_policy, qa_policy, explore_policy)\n",
    "            if key not in results:\n",
    "                results[key] = []\n",
    "            print(\n",
    "                memory_management_policy,\n",
    "                qa_policy,\n",
    "                explore_policy,\n",
    "            )\n",
    "\n",
    "            for seed in tqdm([0, 1, 2, 3, 4]):\n",
    "                config[\"seed\"] = seed\n",
    "\n",
    "                agent = HandcraftedAgent(\n",
    "                    env_str=\"room_env:RoomEnv-v2\",\n",
    "                    env_config=config,\n",
    "                    memory_management_policy=memory_management_policy,\n",
    "                    qa_policy=qa_policy,\n",
    "                    explore_policy=explore_policy,\n",
    "                    num_samples_for_results=10,\n",
    "                    capacity=capacity,\n",
    "                )\n",
    "                agent.test()\n",
    "                to_append = (np.mean(agent.scores), np.std(agent.scores))\n",
    "                print(to_append)\n",
    "                results[key].append(to_append)"
   ]
  },
  {
   "cell_type": "code",
   "execution_count": 2,
   "metadata": {},
   "outputs": [
    {
     "name": "stdout",
     "output_type": "stream",
     "text": [
      "('random', 'random', 'random') \t\t\t\t 13.2 4.27\n",
      "('random', 'random', 'avoid_walls') \t\t\t\t 17.0 4.65\n",
      "('random', 'episodic_semantic', 'random') \t\t\t\t 53.24 2.68\n",
      "('random', 'episodic_semantic', 'avoid_walls') \t\t\t\t 54.0 2.59\n",
      "('generalize', 'random', 'random') \t\t\t\t 25.52 3.65\n",
      "('generalize', 'random', 'avoid_walls') \t\t\t\t 32.36 5.53\n",
      "('generalize', 'episodic_semantic', 'random') \t\t\t\t 58.76 2.17\n",
      "('generalize', 'episodic_semantic', 'avoid_walls') \t\t\t\t 69.76 2.41\n"
     ]
    }
   ],
   "source": [
    "for key, val in results.items():\n",
    "    print(\n",
    "        key,\n",
    "        \"\\t\\t\\t\\t\",\n",
    "        round(np.mean([v[0] for v in val]), 2),\n",
    "        round(np.std([v[0] for v in val]), 2),\n",
    "    )"
   ]
  }
 ],
 "metadata": {
  "kernelspec": {
   "display_name": "human-memory",
   "language": "python",
   "name": "python3"
  },
  "language_info": {
   "codemirror_mode": {
    "name": "ipython",
    "version": 3
   },
   "file_extension": ".py",
   "mimetype": "text/x-python",
   "name": "python",
   "nbconvert_exporter": "python",
   "pygments_lexer": "ipython3",
   "version": "3.9.18"
  },
  "orig_nbformat": 4
 },
 "nbformat": 4,
 "nbformat_minor": 2
}
