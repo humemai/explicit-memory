{
 "cells": [
  {
   "cell_type": "code",
   "execution_count": 1,
   "metadata": {},
   "outputs": [
    {
     "name": "stdout",
     "output_type": "stream",
     "text": [
      "generalize episodic_semantic avoid_walls\n"
     ]
    },
    {
     "data": {
      "application/vnd.jupyter.widget-view+json": {
       "model_id": "5802f5bf68d343c19bea4c97adeddc36",
       "version_major": 2,
       "version_minor": 0
      },
      "text/plain": [
       "  0%|          | 0/5 [00:00<?, ?it/s]"
      ]
     },
     "metadata": {},
     "output_type": "display_data"
    },
    {
     "name": "stderr",
     "output_type": "stream",
     "text": [
      "/home/tk/.virtualenvs/human-memory/lib/python3.9/site-packages/gymnasium/envs/registration.py:491: UserWarning: \u001b[33mWARN: The environment creator metadata doesn't include `render_modes`, contains: ['render.modes']\u001b[0m\n",
      "  logger.warn(\n",
      "/home/tk/.virtualenvs/human-memory/lib/python3.9/site-packages/gymnasium/utils/passive_env_checker.py:197: DeprecationWarning: \u001b[33mWARN: Current gymnasium version requires that `Env.reset` can be passed a `seed` instead of using `Env.seed` for resetting the environment random number generator.\u001b[0m\n",
      "  logger.deprecation(\n",
      "/home/tk/.virtualenvs/human-memory/lib/python3.9/site-packages/gymnasium/utils/passive_env_checker.py:210: DeprecationWarning: \u001b[33mWARN: Current gymnasium version requires that `Env.reset` can be passed `options` to allow the environment initialisation to be passed additional information.\u001b[0m\n",
      "  logger.deprecation(\n",
      "/home/tk/.virtualenvs/human-memory/lib/python3.9/site-packages/gymnasium/utils/passive_env_checker.py:156: UserWarning: \u001b[33mWARN: The obs returned by the `reset()` method should be an int or np.int64, actual type: <class 'tuple'>\u001b[0m\n",
      "  logger.warn(f\"{pre} should be an int or np.int64, actual type: {type(obs)}\")\n",
      "/home/tk/.virtualenvs/human-memory/lib/python3.9/site-packages/gymnasium/utils/passive_env_checker.py:188: UserWarning: \u001b[33mWARN: The obs returned by the `reset()` method is not within the observation space.\u001b[0m\n",
      "  logger.warn(f\"{pre} is not within the observation space.\")\n",
      "/home/tk/.virtualenvs/human-memory/lib/python3.9/site-packages/gymnasium/utils/passive_env_checker.py:156: UserWarning: \u001b[33mWARN: The obs returned by the `step()` method should be an int or np.int64, actual type: <class 'tuple'>\u001b[0m\n",
      "  logger.warn(f\"{pre} should be an int or np.int64, actual type: {type(obs)}\")\n",
      "/home/tk/.virtualenvs/human-memory/lib/python3.9/site-packages/gymnasium/utils/passive_env_checker.py:188: UserWarning: \u001b[33mWARN: The obs returned by the `step()` method is not within the observation space.\u001b[0m\n",
      "  logger.warn(f\"{pre} is not within the observation space.\")\n"
     ]
    },
    {
     "name": "stdout",
     "output_type": "stream",
     "text": [
      "(67.6, 4.715930449020639)\n",
      "(67.4, 6.003332407921454)\n",
      "(72.0, 6.0)\n",
      "(66.8, 9.086253353280439)\n",
      "(66.4, 6.437390775772433)\n",
      "generalize episodic_semantic random\n"
     ]
    },
    {
     "data": {
      "application/vnd.jupyter.widget-view+json": {
       "model_id": "4c9a46ee9fe144e0a1c227653633a3c1",
       "version_major": 2,
       "version_minor": 0
      },
      "text/plain": [
       "  0%|          | 0/5 [00:00<?, ?it/s]"
      ]
     },
     "metadata": {},
     "output_type": "display_data"
    },
    {
     "name": "stdout",
     "output_type": "stream",
     "text": [
      "(59.0, 11.357816691600547)\n",
      "(61.8, 7.6131465242697125)\n",
      "(58.2, 12.114454176726248)\n",
      "(62.4, 9.414881836751857)\n",
      "(65.6, 4.963869458396343)\n",
      "generalize random avoid_walls\n"
     ]
    },
    {
     "data": {
      "application/vnd.jupyter.widget-view+json": {
       "model_id": "ea6f755dfe6b4ee490c490cba3930120",
       "version_major": 2,
       "version_minor": 0
      },
      "text/plain": [
       "  0%|          | 0/5 [00:00<?, ?it/s]"
      ]
     },
     "metadata": {},
     "output_type": "display_data"
    },
    {
     "name": "stdout",
     "output_type": "stream",
     "text": [
      "(39.8, 9.651942809610922)\n",
      "(34.4, 14.609585894199741)\n",
      "(30.0, 10.119288512538814)\n",
      "(40.6, 8.248636250920512)\n",
      "(38.4, 10.384603988597735)\n",
      "generalize random random\n"
     ]
    },
    {
     "data": {
      "application/vnd.jupyter.widget-view+json": {
       "model_id": "88c7ca582125493fa701877f49bfa182",
       "version_major": 2,
       "version_minor": 0
      },
      "text/plain": [
       "  0%|          | 0/5 [00:00<?, ?it/s]"
      ]
     },
     "metadata": {},
     "output_type": "display_data"
    },
    {
     "name": "stdout",
     "output_type": "stream",
     "text": [
      "(20.2, 13.898201322473351)\n",
      "(20.6, 11.766052864066182)\n",
      "(20.6, 12.232742946698423)\n",
      "(18.0, 8.67179335547152)\n",
      "(22.2, 11.079711187571634)\n",
      "random episodic_semantic avoid_walls\n"
     ]
    },
    {
     "data": {
      "application/vnd.jupyter.widget-view+json": {
       "model_id": "4a5038db0bdd45a09f80b033e1fed246",
       "version_major": 2,
       "version_minor": 0
      },
      "text/plain": [
       "  0%|          | 0/5 [00:00<?, ?it/s]"
      ]
     },
     "metadata": {},
     "output_type": "display_data"
    },
    {
     "name": "stdout",
     "output_type": "stream",
     "text": [
      "(50.2, 11.258774356030054)\n",
      "(51.0, 8.910667763978186)\n",
      "(47.4, 12.58729518204765)\n",
      "(54.0, 11.419281938896159)\n",
      "(47.6, 14.221111067704943)\n",
      "random episodic_semantic random\n"
     ]
    },
    {
     "data": {
      "application/vnd.jupyter.widget-view+json": {
       "model_id": "5a50c17a33fa42bf928e30d81a412906",
       "version_major": 2,
       "version_minor": 0
      },
      "text/plain": [
       "  0%|          | 0/5 [00:00<?, ?it/s]"
      ]
     },
     "metadata": {},
     "output_type": "display_data"
    },
    {
     "name": "stdout",
     "output_type": "stream",
     "text": [
      "(50.2, 11.258774356030054)\n",
      "(51.0, 8.910667763978186)\n",
      "(47.4, 12.58729518204765)\n",
      "(54.0, 11.419281938896159)\n",
      "(47.6, 14.221111067704943)\n",
      "random random avoid_walls\n"
     ]
    },
    {
     "data": {
      "application/vnd.jupyter.widget-view+json": {
       "model_id": "e19f6f39a13449498351ab03777f1b9b",
       "version_major": 2,
       "version_minor": 0
      },
      "text/plain": [
       "  0%|          | 0/5 [00:00<?, ?it/s]"
      ]
     },
     "metadata": {},
     "output_type": "display_data"
    },
    {
     "name": "stdout",
     "output_type": "stream",
     "text": [
      "(12.8, 11.737120600896969)\n",
      "(19.4, 9.297311439335568)\n",
      "(6.2, 11.00727032465361)\n",
      "(12.2, 9.693296652842108)\n",
      "(4.6, 5.295280917949491)\n",
      "random random random\n"
     ]
    },
    {
     "data": {
      "application/vnd.jupyter.widget-view+json": {
       "model_id": "90aa12b91b164e7585043e95a152cbab",
       "version_major": 2,
       "version_minor": 0
      },
      "text/plain": [
       "  0%|          | 0/5 [00:00<?, ?it/s]"
      ]
     },
     "metadata": {},
     "output_type": "display_data"
    },
    {
     "name": "stdout",
     "output_type": "stream",
     "text": [
      "(12.8, 11.737120600896969)\n",
      "(19.4, 9.297311439335568)\n",
      "(6.2, 11.00727032465361)\n",
      "(12.2, 9.693296652842108)\n",
      "(4.6, 5.295280917949491)\n"
     ]
    }
   ],
   "source": [
    "import logging\n",
    "\n",
    "logger = logging.getLogger()\n",
    "logger.disabled = True\n",
    "\n",
    "import numpy as np\n",
    "from tqdm.auto import tqdm\n",
    "\n",
    "from agent import HandCraftedAgent\n",
    "\n",
    "\n",
    "capacity = {\"episodic\": 16, \"semantic\": 16, \"short\": 16}\n",
    "\n",
    "config = {\n",
    "    \"question_prob\": 1.0,\n",
    "    \"seed\": 42,\n",
    "    \"terminates_at\": 99,\n",
    "}\n",
    "\n",
    "results = {}\n",
    "\n",
    "for memory_management_policy in [\"generalize\", \"random\"]:\n",
    "    for qa_policy in [\"episodic_semantic\", \"random\"]:\n",
    "        for explore_policy in [\"avoid_walls\", \"random\"]:\n",
    "            key = (memory_management_policy, qa_policy, explore_policy)\n",
    "            if key not in results:\n",
    "                results[key] = []\n",
    "            print(\n",
    "                memory_management_policy,\n",
    "                qa_policy,\n",
    "                explore_policy,\n",
    "            )\n",
    "\n",
    "            for seed in tqdm([0, 1, 2, 3, 4]):\n",
    "                config[\"seed\"] = seed\n",
    "\n",
    "                agent = HandCraftedAgent(\n",
    "                    env_str=\"room_env:RoomEnv-v2\",\n",
    "                    env_config=config,\n",
    "                    memory_management_policy=memory_management_policy,\n",
    "                    qa_policy=qa_policy,\n",
    "                    explore_policy=explore_policy,\n",
    "                    num_samples_for_results=10,\n",
    "                    capacity=capacity,\n",
    "                )\n",
    "                agent.test()\n",
    "                to_append = (np.mean(agent.scores), np.std(agent.scores))\n",
    "                print(to_append)\n",
    "                results[key].append(to_append)"
   ]
  },
  {
   "cell_type": "code",
   "execution_count": 16,
   "metadata": {},
   "outputs": [
    {
     "name": "stdout",
     "output_type": "stream",
     "text": [
      "('generalize', 'episodic_semantic', 'avoid_walls') \t\t\t\t 68.04 2.03\n",
      "('generalize', 'episodic_semantic', 'random') \t\t\t\t 61.4 2.64\n",
      "('generalize', 'random', 'avoid_walls') \t\t\t\t 36.64 3.95\n",
      "('generalize', 'random', 'random') \t\t\t\t 20.32 1.35\n",
      "('random', 'episodic_semantic', 'avoid_walls') \t\t\t\t 50.04 2.43\n",
      "('random', 'episodic_semantic', 'random') \t\t\t\t 50.04 2.43\n",
      "('random', 'random', 'avoid_walls') \t\t\t\t 11.04 5.28\n",
      "('random', 'random', 'random') \t\t\t\t 11.04 5.28\n"
     ]
    }
   ],
   "source": [
    "for key, val in results.items():\n",
    "    print(\n",
    "        key,\n",
    "        \"\\t\\t\\t\\t\",\n",
    "        round(np.mean([v[0] for v in val]), 2),\n",
    "        round(np.std([v[0] for v in val]), 2),\n",
    "    )"
   ]
  },
  {
   "cell_type": "code",
   "execution_count": 7,
   "metadata": {},
   "outputs": [
    {
     "data": {
      "text/plain": [
       "(11.040000000000003, 5.276968826892953)"
      ]
     },
     "execution_count": 7,
     "metadata": {},
     "output_type": "execute_result"
    }
   ],
   "source": [
    "np.mean([v[0] for v in val]), np.std([v[0] for v in val])"
   ]
  }
 ],
 "metadata": {
  "kernelspec": {
   "display_name": "human-memory",
   "language": "python",
   "name": "python3"
  },
  "language_info": {
   "codemirror_mode": {
    "name": "ipython",
    "version": 3
   },
   "file_extension": ".py",
   "mimetype": "text/x-python",
   "name": "python",
   "nbconvert_exporter": "python",
   "pygments_lexer": "ipython3",
   "version": "3.9.18"
  },
  "orig_nbformat": 4
 },
 "nbformat": 4,
 "nbformat_minor": 2
}
