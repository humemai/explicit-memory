{
 "cells": [
  {
   "cell_type": "code",
   "execution_count": null,
   "metadata": {},
   "outputs": [],
   "source": [
    "import logging\n",
    "\n",
    "logger = logging.getLogger()\n",
    "logger.disabled = True\n",
    "\n",
    "import numpy as np\n",
    "from tqdm.auto import tqdm\n",
    "\n",
    "from agent import HandcraftedAgent\n",
    "\n",
    "\n",
    "capacity = {\"episodic\": 16, \"semantic\": 16, \"short\": 16}\n",
    "\n",
    "config = {\n",
    "    \"question_prob\": 1.0,\n",
    "    \"seed\": 42,\n",
    "    \"terminates_at\": 99,\n",
    "}\n",
    "\n",
    "results = {}\n",
    "\n",
    "for memory_management_policy in [\"random\", \"generalize\"]:\n",
    "    for qa_policy in [\"random\", \"episodic_semantic\"]:\n",
    "        for explore_policy in [\"random\", \"avoid_walls\"]:\n",
    "            key = (memory_management_policy, qa_policy, explore_policy)\n",
    "            if key not in results:\n",
    "                results[key] = []\n",
    "            print(\n",
    "                memory_management_policy,\n",
    "                qa_policy,\n",
    "                explore_policy,\n",
    "            )\n",
    "\n",
    "            for seed in tqdm([0, 1, 2, 3, 4]):\n",
    "                config[\"seed\"] = seed\n",
    "\n",
    "                agent = HandcraftedAgent(\n",
    "                    env_str=\"room_env:RoomEnv-v2\",\n",
    "                    env_config=config,\n",
    "                    memory_management_policy=memory_management_policy,\n",
    "                    qa_policy=qa_policy,\n",
    "                    explore_policy=explore_policy,\n",
    "                    num_samples_for_results=10,\n",
    "                    capacity=capacity,\n",
    "                )\n",
    "                agent.test()\n",
    "                to_append = (np.mean(agent.scores), np.std(agent.scores))\n",
    "                print(to_append)\n",
    "                results[key].append(to_append)\n"
   ]
  },
  {
   "cell_type": "code",
   "execution_count": 65,
   "metadata": {},
   "outputs": [
    {
     "name": "stdout",
     "output_type": "stream",
     "text": [
      "memory management policy      qa policy                     explore policy                mean      std       \n",
      "--------------------------------------------------------------------------------------------------------------\n",
      "random                        random                        random                        12.8      2.06      \n",
      "random                        random                        avoid_walls                   17.28     2.59      \n",
      "random                        episodic_semantic             random                        52.4      0.92      \n",
      "random                        episodic_semantic             avoid_walls                   54.96     5.0       \n",
      "generalize                    random                        random                        24.92     1.94      \n",
      "generalize                    random                        avoid_walls                   35.72     2.12      \n",
      "generalize                    episodic_semantic             random                        57.96     3.14      \n",
      "generalize                    episodic_semantic             avoid_walls                   66.88     2.06      \n"
     ]
    }
   ],
   "source": [
    "print(\n",
    "    f\"{'memory management policy':<30}{'qa policy':<30}{'explore policy':<30}{'mean':<10}{'std':<10}\"\n",
    ")\n",
    "print(f\"-\" * 110)\n",
    "for key, val in results.items():\n",
    "    print(\n",
    "        f\"{str(key[0]):<30}{str(key[1]):<30}{str(key[2]):<30}{round(np.mean([v[0] for v in val]), 2):<10}{round(np.std([v[0] for v in val]), 2):<10}\"\n",
    "    )\n"
   ]
  },
  {
   "cell_type": "code",
   "execution_count": null,
   "metadata": {},
   "outputs": [],
   "source": [
    "import logging\n",
    "\n",
    "logger = logging.getLogger()\n",
    "logger.disabled = True\n",
    "\n",
    "from agent import DQNAgent\n",
    "\n",
    "for pretrain_semantic in [True, False]:\n",
    "    for test_seed in [0, 1, 2, 3, 4]:\n",
    "        # parameters\n",
    "        all_params = {\n",
    "            \"env_str\": \"room_env:RoomEnv-v2\",\n",
    "            \"max_epsilon\": 1.0,\n",
    "            \"min_epsilon\": 0.1,\n",
    "            \"epsilon_decay_until\": 100 * 16,\n",
    "            \"gamma\": 0.65,\n",
    "            \"capacity\": {\"episodic\": 16, \"semantic\": 16, \"short\": 16},\n",
    "            \"nn_params\": {\n",
    "                \"hidden_size\": 64,\n",
    "                \"num_layers\": 2,\n",
    "                \"n_actions\": 5,\n",
    "                \"embedding_dim\": 32,\n",
    "                \"v1_params\": None,\n",
    "                \"v2_params\": {},\n",
    "            },\n",
    "            \"num_iterations\": 100 * 16,\n",
    "            \"replay_buffer_size\": 1024 * 100,\n",
    "            \"warm_start\": 1024 * 100,\n",
    "            \"batch_size\": 1024,\n",
    "            \"target_update_rate\": 10,\n",
    "            \"pretrain_semantic\": pretrain_semantic,\n",
    "            \"run_validation\": True,\n",
    "            \"run_test\": True,\n",
    "            \"num_samples_for_results\": 10,\n",
    "            \"train_seed\": test_seed + 5,\n",
    "            \"plotting_interval\": 10,\n",
    "            \"device\": \"cpu\",\n",
    "            \"test_seed\": test_seed,\n",
    "        }\n",
    "\n",
    "        agent = DQNAgent(**all_params)\n",
    "        agent.train()"
   ]
  },
  {
   "cell_type": "code",
   "execution_count": 120,
   "metadata": {},
   "outputs": [
    {
     "name": "stdout",
     "output_type": "stream",
     "text": [
      "scratch        58.48  +-  4.17\n",
      "pretrain       51.76  +-  7.28\n"
     ]
    }
   ],
   "source": [
    "from glob import glob\n",
    "from explicit_memory.utils import read_yaml\n",
    "\n",
    "results = {\"pretrain\": [], \"scratch\": []}\n",
    "for foo in glob(\"./training_results/*/*train.yaml\"):\n",
    "    bar = read_yaml(foo)\n",
    "    # print(foo, bar[\"test_seed\"], bar[\"pretrain_semantic\"])\n",
    "\n",
    "    foo_ = foo.replace(\"train.yaml\", \"results.yaml\")\n",
    "\n",
    "    bar_ = read_yaml(foo_)\n",
    "    if bar[\"pretrain_semantic\"]:\n",
    "        results[\"pretrain\"].append(bar_[\"test_score\"])\n",
    "    else:\n",
    "        results[\"scratch\"].append(bar_[\"test_score\"])\n",
    "\n",
    "\n",
    "foo = [foo[\"mean\"] for foo in results[\"scratch\"]]\n",
    "print(f\"{'scratch':<15}{round(np.mean(foo), 2)}  +-  {round(np.std(foo), 2)}\")\n",
    "\n",
    "foo = [foo[\"mean\"] for foo in results[\"pretrain\"]]\n",
    "print(f\"{'pretrain':<15}{round(np.mean(foo), 2)}  +-  {round(np.std(foo), 2)}\")"
   ]
  },
  {
   "cell_type": "code",
   "execution_count": 2,
   "metadata": {},
   "outputs": [
    {
     "data": {
      "text/plain": [
       "1"
      ]
     },
     "execution_count": 2,
     "metadata": {},
     "output_type": "execute_result"
    }
   ],
   "source": [
    "[\"rl\", \"asdf\", \"asdf\"].count(\"rl\")"
   ]
  }
 ],
 "metadata": {
  "kernelspec": {
   "display_name": "human-memory",
   "language": "python",
   "name": "python3"
  },
  "language_info": {
   "codemirror_mode": {
    "name": "ipython",
    "version": 3
   },
   "file_extension": ".py",
   "mimetype": "text/x-python",
   "name": "python",
   "nbconvert_exporter": "python",
   "pygments_lexer": "ipython3",
   "version": "3.9.18"
  },
  "orig_nbformat": 4
 },
 "nbformat": 4,
 "nbformat_minor": 2
}
