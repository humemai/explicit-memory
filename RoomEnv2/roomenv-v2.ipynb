{
 "cells": [
  {
   "cell_type": "code",
   "execution_count": 1,
   "metadata": {},
   "outputs": [],
   "source": [
    "room_config = {\n",
    "    \"officeroom\": {\n",
    "        \"north\": \"wall\",\n",
    "        \"east\": \"livingroom\",\n",
    "        \"south\": \"wall\",\n",
    "        \"west\": \"wall\",\n",
    "    },\n",
    "    \"livingroom\": {\n",
    "        \"north\": \"wall\",\n",
    "        \"east\": \"wall\",\n",
    "        \"south\": \"bedroom\",\n",
    "        \"west\": \"officeroom\",\n",
    "    },\n",
    "    \"bedroom\": {\n",
    "        \"north\": \"livingroom\",\n",
    "        \"east\": \"wall\",\n",
    "        \"south\": \"wall\",\n",
    "        \"west\": \"wall\",\n",
    "    },\n",
    "}\n",
    "\n",
    "\n",
    "object_transition_config = {\n",
    "    \"static\": {\"bed\": None, \"desk\": None, \"table\": None},\n",
    "    \"independent\": {\n",
    "        \"tae\": {\n",
    "            \"officeroom\": {\"north\": 0, \"east\": 0.1, \"south\": 0, \"west\": 0, \"stay\": 0.9},\n",
    "            \"livingroom\": {\n",
    "                \"north\": 0,\n",
    "                \"east\": 0,\n",
    "                \"south\": 0,\n",
    "                \"west\": 0.1,\n",
    "                \"stay\": 0.9,\n",
    "            },\n",
    "            \"bedroom\": {\"north\": 0, \"east\": 0, \"south\": 0, \"west\": 0, \"stay\": 0},\n",
    "        },\n",
    "        \"michael\": {\n",
    "            \"officeroom\": {\n",
    "                \"north\": 0,\n",
    "                \"east\": 0,\n",
    "                \"south\": 0,\n",
    "                \"west\": 0,\n",
    "                \"stay\": 0,\n",
    "            },\n",
    "            \"livingroom\": {\n",
    "                \"north\": 0,\n",
    "                \"east\": 0,\n",
    "                \"south\": 0.9,\n",
    "                \"west\": 0,\n",
    "                \"stay\": 0.1,\n",
    "            },\n",
    "            \"bedroom\": {\"north\": 0.1, \"east\": 0, \"south\": 0, \"west\": 0, \"stay\": 0.9},\n",
    "        },\n",
    "        \"vincent\": {\n",
    "            \"officeroom\": {\n",
    "                \"north\": 0,\n",
    "                \"east\": 0.5,\n",
    "                \"south\": 0,\n",
    "                \"west\": 0,\n",
    "                \"stay\": 0.5,\n",
    "            },\n",
    "            \"livingroom\": {\n",
    "                \"north\": 0,\n",
    "                \"east\": 0,\n",
    "                \"south\": 0.333,\n",
    "                \"west\": 0.333,\n",
    "                \"stay\": 0.333,\n",
    "            },\n",
    "            \"bedroom\": {\n",
    "                \"north\": 0.5,\n",
    "                \"east\": 0,\n",
    "                \"south\": 0,\n",
    "                \"west\": 0,\n",
    "                \"stay\": 0.5,\n",
    "            },\n",
    "        },\n",
    "    },\n",
    "    \"dependent\": {\n",
    "        \"laptop\": {\"tae\": 0.7, \"michael\": 0.4, \"vincent\": 0.1},\n",
    "        \"phone\": {\"tae\": 0.1, \"michael\": 0.7, \"vincent\": 0.4},\n",
    "        \"headset\": {\"tae\": 0.4, \"michael\": 0.1, \"vincent\": 0.9},\n",
    "    },\n",
    "    \"agent\": {\n",
    "        \"agent\": {\"officeroom\": None, \"livingroom\": None, \"bedroom\": None},\n",
    "    },\n",
    "}\n",
    "\n",
    "object_init_config = {\n",
    "    \"static\": {\n",
    "        \"bed\": {\"officeroom\": 0, \"livingroom\": 0, \"bedroom\": 1},\n",
    "        \"desk\": {\"officeroom\": 1, \"livingroom\": 0, \"bedroom\": 0},\n",
    "        \"table\": {\"officeroom\": 0, \"livingroom\": 1, \"bedroom\": 0},\n",
    "    },\n",
    "    \"independent\": {\n",
    "        \"tae\": {\"officeroom\": 0.5, \"livingroom\": 0.5, \"bedroom\": 0},\n",
    "        \"michael\": {\"officeroom\": 0, \"livingroom\": 0.5, \"bedroom\": 0.5},\n",
    "        \"vincent\": {\"officeroom\": 0.333, \"livingroom\": 0.333, \"bedroom\": 0.333},\n",
    "    },\n",
    "    \"dependent\": {\n",
    "        \"laptop\": {\"officeroom\": 0.333, \"livingroom\": 0.333, \"bedroom\": 0.333},\n",
    "        \"phone\": {\"officeroom\": 0.333, \"livingroom\": 0.333, \"bedroom\": 0.333},\n",
    "        \"headset\": {\"officeroom\": 0.333, \"livingroom\": 0.333, \"bedroom\": 0.333},\n",
    "    },\n",
    "    \"agent\": {\n",
    "        \"agent\": {\"officeroom\": 0.333, \"livingroom\": 0.333, \"bedroom\": 0.333},\n",
    "    },\n",
    "}\n",
    "\n",
    "config = {\n",
    "    \"room_config\": room_config,\n",
    "    \"object_transition_config\": object_transition_config,\n",
    "    \"object_init_config\": object_init_config,\n",
    "    \"question_prob\": 1.0,\n",
    "    \"seed\": 42,\n",
    "    \"terminates_at\": 99,\n",
    "}"
   ]
  },
  {
   "cell_type": "code",
   "execution_count": null,
   "metadata": {},
   "outputs": [],
   "source": [
    "import gymnasium as gym\n",
    "import random\n",
    "\n",
    "env = gym.make(\"room_env:RoomEnv-v2\", **config)\n",
    "(obs, question), info = env.reset()\n",
    "while True:\n",
    "    action_qa = \"livingroom\"\n",
    "    action_explore = random.choice([\"north\", \"east\", \"south\", \"west\", \"stay\"])\n",
    "    (obs, question), reward, done, truncated, info = env.step((\"wall\", action_explore))\n",
    "    if done:\n",
    "        break"
   ]
  },
  {
   "cell_type": "code",
   "execution_count": 3,
   "metadata": {},
   "outputs": [
    {
     "data": {
      "text/plain": [
       "([['livingroom', 'tothenorth', 'wall', 100],\n",
       "  ['livingroom', 'totheeast', 'wall', 100],\n",
       "  ['livingroom', 'tothesouth', 'bedroom', 100],\n",
       "  ['livingroom', 'tothewest', 'officeroom', 100],\n",
       "  ['table', 'atlocation', 'livingroom', 100],\n",
       "  ['vincent', 'atlocation', 'livingroom', 100],\n",
       "  ['headset', 'atlocation', 'livingroom', 100],\n",
       "  ['agent', 'atlocation', 'livingroom', 100]],\n",
       " ['table', 'atlocation', '?', 100])"
      ]
     },
     "execution_count": 3,
     "metadata": {},
     "output_type": "execute_result"
    }
   ],
   "source": [
    "obs, question"
   ]
  },
  {
   "cell_type": "code",
   "execution_count": 4,
   "metadata": {},
   "outputs": [
    {
     "data": {
      "text/plain": [
       "[['officeroom', 'tothenorth', 'wall', 100],\n",
       " ['officeroom', 'totheeast', 'livingroom', 100],\n",
       " ['officeroom', 'tothesouth', 'wall', 100],\n",
       " ['officeroom', 'tothewest', 'wall', 100],\n",
       " ['livingroom', 'tothenorth', 'wall', 100],\n",
       " ['livingroom', 'totheeast', 'wall', 100],\n",
       " ['livingroom', 'tothesouth', 'bedroom', 100],\n",
       " ['livingroom', 'tothewest', 'officeroom', 100],\n",
       " ['bedroom', 'tothenorth', 'livingroom', 100],\n",
       " ['bedroom', 'totheeast', 'wall', 100],\n",
       " ['bedroom', 'tothesouth', 'wall', 100],\n",
       " ['bedroom', 'tothewest', 'wall', 100],\n",
       " ['bed', 'atlocation', 'bedroom', 100],\n",
       " ['desk', 'atlocation', 'officeroom', 100],\n",
       " ['table', 'atlocation', 'livingroom', 100],\n",
       " ['tae', 'atlocation', 'officeroom', 100],\n",
       " ['michael', 'atlocation', 'bedroom', 100],\n",
       " ['vincent', 'atlocation', 'livingroom', 100],\n",
       " ['laptop', 'atlocation', 'officeroom', 100],\n",
       " ['phone', 'atlocation', 'bedroom', 100],\n",
       " ['headset', 'atlocation', 'livingroom', 100],\n",
       " ['agent', 'atlocation', 'livingroom', 100]]"
      ]
     },
     "execution_count": 4,
     "metadata": {},
     "output_type": "execute_result"
    }
   ],
   "source": [
    "env.hidden_global_state"
   ]
  },
  {
   "cell_type": "code",
   "execution_count": 5,
   "metadata": {},
   "outputs": [],
   "source": [
    "import datetime\n",
    "import random\n",
    "from explicit_memory.memory import EpisodicMemory, SemanticMemory, ShortMemory\n",
    "\n",
    "\n",
    "class HandCraftedAgent:\n",
    "    \"\"\"Handcrafted agent interacting with environment.\n",
    "\n",
    "    This agent explores the roooms, i.e., KGs. The exploration can be uniform-random,\n",
    "    or just avoiding walls.\n",
    "\n",
    "    \"\"\"\n",
    "\n",
    "    def __init__(\n",
    "        self,\n",
    "        env_str: str = \"room_env:RoomEnv-v2\",\n",
    "        env_config: dict = None,\n",
    "        policy: str = \"random\",\n",
    "        num_samples_for_results: int = 10,\n",
    "        test_seed: int = 42,\n",
    "        capacity: dict = {\n",
    "            \"episodic\": 8,\n",
    "            \"semantic\": 8,\n",
    "            \"short\": 32,\n",
    "        },\n",
    "    ) -> None:\n",
    "        \"\"\"Initialize the agent.\n",
    "\n",
    "        Args\n",
    "        ----\n",
    "        env_str: This has to be \"room_env:RoomEnv-v2\"\n",
    "        env_config: The configuration of the environment.\n",
    "        policy: The room exploration policy. Choose one of \"random\", \"avoid_walls\"\n",
    "        num_samples_for_results: The number of samples to validate / test the agent.\n",
    "        test_seed: The random seed for test.\n",
    "        capacity: The capacity of each human-like memory systems.\n",
    "\n",
    "        \"\"\"\n",
    "        self.all_params = deepcopy(locals())\n",
    "        del self.all_params[\"self\"]\n",
    "        self.env_str = env_str\n",
    "        self.env_config = env_config\n",
    "        self.env_config[\"seed\"] = test_seed\n",
    "        self.policy = policy\n",
    "        assert self.policy in [\"random\", \"avoid_walls\"]\n",
    "        self.num_samples_for_results = num_samples_for_results\n",
    "        self.test_seed = test_seed\n",
    "        self.capacity = capacity\n",
    "\n",
    "        self.env = gym.make(self.env_str, **env_config)\n",
    "\n",
    "        self.default_root_dir = f\"./training_results/{str(datetime.datetime.now())}\"\n",
    "        os.makedirs(self.default_root_dir, exist_ok=True)\n",
    "\n",
    "    def init_memory_systems(self, num_actions: int = 5) -> None:\n",
    "        \"\"\"Initialize the agent's memory systems. This has nothing to do with the\n",
    "        replay buffer.\"\"\"\n",
    "        self.action_space = gym.spaces.Discrete(num_actions)\n",
    "        self.memory_systems = {\n",
    "            \"episodic\": EpisodicMemory(capacity=self.capacity[\"episodic\"]),\n",
    "            \"semantic\": SemanticMemory(capacity=self.capacity[\"semantic\"]),\n",
    "            \"short\": ShortMemory(capacity=self.capacity[\"short\"]),\n",
    "        }"
   ]
  },
  {
   "cell_type": "code",
   "execution_count": 6,
   "metadata": {},
   "outputs": [],
   "source": [
    "memory_systems = {\n",
    "    \"episodic\": EpisodicMemory(capacity=4),\n",
    "    \"semantic\": SemanticMemory(capacity=4),\n",
    "    \"short\": ShortMemory(capacity=2),\n",
    "}"
   ]
  },
  {
   "cell_type": "code",
   "execution_count": 7,
   "metadata": {},
   "outputs": [],
   "source": [
    "import gymnasium as gym\n",
    "import random\n",
    "\n",
    "env = gym.make(\"room_env:RoomEnv-v2\", **config)\n",
    "(obs, question), info = env.reset()\n",
    "obs_len = []\n",
    "obs_len.append(len(obs))\n",
    "obs_all = []\n",
    "obs_all.append(obs)\n",
    "while True:\n",
    "    action_qa = \"livingroom\"\n",
    "    action_explore = random.choice([\"north\", \"east\", \"south\", \"west\", \"stay\"])\n",
    "    (obs, question), reward, done, truncated, info = env.step((\"wall\", action_explore))\n",
    "    if done:\n",
    "        break\n",
    "    obs_len.append(len(obs))\n",
    "    obs_all.append(obs)"
   ]
  },
  {
   "cell_type": "code",
   "execution_count": 8,
   "metadata": {},
   "outputs": [
    {
     "name": "stderr",
     "output_type": "stream",
     "text": [
      "2023-09-05 18:12:55.372 INFO memory - add: memory entry {'human': None, 'object': 'tae', 'object_location': 'livingroom', 'timestamp': 0} added. Now there are in total of 1 memories!\n"
     ]
    },
    {
     "data": {
      "text/plain": [
       "{   '_frozen': False,\n",
       "    'capacity': 4,\n",
       "    'entries': [   {   'human': None,\n",
       "                       'object': 'tae',\n",
       "                       'object_location': 'livingroom',\n",
       "                       'timestamp': 0}],\n",
       "    'remove_duplicates': False,\n",
       "    'type': 'episodic'}"
      ]
     },
     "execution_count": 8,
     "metadata": {},
     "output_type": "execute_result"
    }
   ],
   "source": [
    "foo = EpisodicMemory(4, False)\n",
    "foo.add(\n",
    "    {\"human\": None, \"object\": \"tae\", \"object_location\": \"livingroom\", \"timestamp\": 0}\n",
    ")\n",
    "foo"
   ]
  },
  {
   "cell_type": "code",
   "execution_count": 9,
   "metadata": {},
   "outputs": [
    {
     "name": "stderr",
     "output_type": "stream",
     "text": [
      "2023-09-05 18:12:55.381 INFO memory - add: memory entry {'human': None, 'object': 'tae', 'object_location': 'officeroom', 'timestamp': 0} added. Now there are in total of 2 memories!\n"
     ]
    },
    {
     "data": {
      "text/plain": [
       "{   '_frozen': False,\n",
       "    'capacity': 4,\n",
       "    'entries': [   {   'human': None,\n",
       "                       'object': 'tae',\n",
       "                       'object_location': 'livingroom',\n",
       "                       'timestamp': 0},\n",
       "                   {   'human': None,\n",
       "                       'object': 'tae',\n",
       "                       'object_location': 'officeroom',\n",
       "                       'timestamp': 0}],\n",
       "    'remove_duplicates': False,\n",
       "    'type': 'episodic'}"
      ]
     },
     "execution_count": 9,
     "metadata": {},
     "output_type": "execute_result"
    }
   ],
   "source": [
    "foo.add(\n",
    "    {\"human\": None, \"object\": \"tae\", \"object_location\": \"officeroom\", \"timestamp\": 0}\n",
    ")\n",
    "\n",
    "foo"
   ]
  },
  {
   "cell_type": "code",
   "execution_count": 4,
   "metadata": {},
   "outputs": [
    {
     "data": {
      "text/plain": [
       "[[1, 2, 3], ['foo', 'bar', -1]]"
      ]
     },
     "execution_count": 4,
     "metadata": {},
     "output_type": "execute_result"
    }
   ],
   "source": [
    "sorted([[1, 2, 3], [\"foo\", \"bar\", -1]], key=lambda x: x[-1], reverse=True)"
   ]
  },
  {
   "cell_type": "code",
   "execution_count": 3,
   "metadata": {},
   "outputs": [
    {
     "data": {
      "text/plain": [
       "([1, 2, 3, 0], [0, 1, 2, 3])"
      ]
     },
     "execution_count": 3,
     "metadata": {},
     "output_type": "execute_result"
    }
   ],
   "source": [
    "foo = [1, 2, 3, 0]\n",
    "\n",
    "bar = sorted(foo)\n",
    "\n",
    "foo, bar"
   ]
  },
  {
   "cell_type": "code",
   "execution_count": 10,
   "metadata": {},
   "outputs": [
    {
     "name": "stderr",
     "output_type": "stream",
     "text": [
      "2023-09-05 18:12:55.388 INFO memory - add: memory entry {'human': None, 'object': 'tae', 'object_location': 'livingroom', 'timestamp': 1} added. Now there are in total of 3 memories!\n"
     ]
    },
    {
     "data": {
      "text/plain": [
       "{   '_frozen': False,\n",
       "    'capacity': 4,\n",
       "    'entries': [   {   'human': None,\n",
       "                       'object': 'tae',\n",
       "                       'object_location': 'livingroom',\n",
       "                       'timestamp': 0},\n",
       "                   {   'human': None,\n",
       "                       'object': 'tae',\n",
       "                       'object_location': 'officeroom',\n",
       "                       'timestamp': 0},\n",
       "                   {   'human': None,\n",
       "                       'object': 'tae',\n",
       "                       'object_location': 'livingroom',\n",
       "                       'timestamp': 1}],\n",
       "    'remove_duplicates': False,\n",
       "    'type': 'episodic'}"
      ]
     },
     "execution_count": 10,
     "metadata": {},
     "output_type": "execute_result"
    }
   ],
   "source": [
    "foo.add(\n",
    "    {\"human\": None, \"object\": \"tae\", \"object_location\": \"livingroom\", \"timestamp\": 1}\n",
    ")\n",
    "\n",
    "foo"
   ]
  },
  {
   "cell_type": "code",
   "execution_count": 11,
   "metadata": {},
   "outputs": [],
   "source": [
    "mems = [\n",
    "    [\"foo\", \"atlocation\", \"bar\", 0],\n",
    "    [\"foo\", \"atlocation\", \"bad\", 1],\n",
    "]"
   ]
  },
  {
   "cell_type": "code",
   "execution_count": 12,
   "metadata": {},
   "outputs": [],
   "source": [
    "mems.remove([\"foo\", \"atlocation\", \"bar\", 0])"
   ]
  },
  {
   "cell_type": "code",
   "execution_count": 13,
   "metadata": {},
   "outputs": [
    {
     "data": {
      "text/plain": [
       "[['foo', 'atlocation', 'bad', 1]]"
      ]
     },
     "execution_count": 13,
     "metadata": {},
     "output_type": "execute_result"
    }
   ],
   "source": [
    "mems"
   ]
  },
  {
   "cell_type": "code",
   "execution_count": 14,
   "metadata": {},
   "outputs": [
    {
     "data": {
      "text/plain": [
       "[{'human': None,\n",
       "  'object': 'tae',\n",
       "  'object_location': 'livingroom',\n",
       "  'timestamp': 0},\n",
       " {'human': None,\n",
       "  'object': 'tae',\n",
       "  'object_location': 'officeroom',\n",
       "  'timestamp': 0},\n",
       " {'human': None,\n",
       "  'object': 'tae',\n",
       "  'object_location': 'livingroom',\n",
       "  'timestamp': 1}]"
      ]
     },
     "execution_count": 14,
     "metadata": {},
     "output_type": "execute_result"
    }
   ],
   "source": [
    "foo.return_as_lists()"
   ]
  },
  {
   "cell_type": "code",
   "execution_count": 7,
   "metadata": {},
   "outputs": [
    {
     "data": {
      "text/plain": [
       "2"
      ]
     },
     "execution_count": 7,
     "metadata": {},
     "output_type": "execute_result"
    }
   ],
   "source": [
    "[\"bob\", \"atlocation\", \"?\", 42].index(\"?\")"
   ]
  },
  {
   "cell_type": "code",
   "execution_count": 3,
   "metadata": {},
   "outputs": [
    {
     "name": "stdout",
     "output_type": "stream",
     "text": [
      "[['bob', 'atlocation', 'bar', 0], ['bob', 'atlocation', 'bar', 32]]\n"
     ]
    }
   ],
   "source": [
    "search = [\"?\", \"atlocation\", \"bar\", 42]\n",
    "targets = [\n",
    "    [\"bob\", \"atlocation\", \"bar\", 0],\n",
    "    [\"foo\", \"atlocation\", \"bad\", 1],\n",
    "    [\"bob\", \"atlocation\", \"bar\", 32],\n",
    "    [\"atlocation\", \"bar\", \"bar\", 5],\n",
    "]\n",
    "candidates = []\n",
    "\n",
    "for target in targets:\n",
    "    assert len(search) == len(target) == 4\n",
    "    count = 0\n",
    "\n",
    "    for s, t in zip(search[:-1], target[:-1]):\n",
    "        if s == t:\n",
    "            count += 1\n",
    "\n",
    "    if count == 2:\n",
    "        candidates.append(target)\n",
    "\n",
    "if len(candidates) > 0:\n",
    "    print(candidates)\n",
    "    candidates.sort(key=lambda x: x[-1])\n",
    "    candidate = candidates[-1]\n",
    "    candidate"
   ]
  },
  {
   "cell_type": "code",
   "execution_count": 13,
   "metadata": {},
   "outputs": [
    {
     "data": {
      "text/plain": [
       "[['bob', 'atlocation', 'bar', 0], ['bob', 'atlocation', 'bar', 32]]"
      ]
     },
     "execution_count": 13,
     "metadata": {},
     "output_type": "execute_result"
    }
   ],
   "source": [
    "search = [\"bob\", \"atlocation\", \"bar\", 12]\n",
    "\n",
    "search, candidates\n",
    "\n",
    "[\n",
    "    candidate\n",
    "    for candidate in candidates\n",
    "    if \"\".join(search[:-1]) == \"\".join(candidate[:-1])\n",
    "]"
   ]
  },
  {
   "cell_type": "code",
   "execution_count": 16,
   "metadata": {},
   "outputs": [
    {
     "data": {
      "text/plain": [
       "True"
      ]
     },
     "execution_count": 16,
     "metadata": {},
     "output_type": "execute_result"
    }
   ],
   "source": [
    "search[:-1] == candidates[0][:-1]"
   ]
  },
  {
   "cell_type": "code",
   "execution_count": 2,
   "metadata": {},
   "outputs": [
    {
     "data": {
      "text/plain": [
       "[['bob', 'atlocation', 'bar', 0],\n",
       " ['bob', 'atlocation', 'bar', 32],\n",
       " ['atlocation', 'bob', 'bar', 10],\n",
       " ['bar', 'bob', 'atlocation', 10],\n",
       " ['bob', 'foo', 'bar', 32]]"
      ]
     },
     "execution_count": 2,
     "metadata": {},
     "output_type": "execute_result"
    }
   ],
   "source": [
    "search = [\"bob\", \"?\", \"bar\", 42]\n",
    "targets = [\n",
    "    [\"bob\", \"atlocation\", \"bar\", 0],\n",
    "    [\"foo\", \"atlocation\", \"bad\", 1],\n",
    "    [\"bob\", \"atlocation\", \"bar\", 32],\n",
    "    [\"atlocation\", \"bob\", \"bar\", 10],\n",
    "    [\"bar\", \"bob\", \"atlocation\", 10],\n",
    "    [\"bob\", \"foo\", \"bar\", 32],\n",
    "]\n",
    "candidates = [\n",
    "    target for target in targets if len(set(search[:-1]).intersection(target[:-1])) == 2\n",
    "]\n",
    "candidates"
   ]
  },
  {
   "cell_type": "code",
   "execution_count": 41,
   "metadata": {},
   "outputs": [
    {
     "data": {
      "text/plain": [
       "{'atlocation'}"
      ]
     },
     "execution_count": 41,
     "metadata": {},
     "output_type": "execute_result"
    }
   ],
   "source": [
    "set(search).intersection(targets[])\n"
   ]
  },
  {
   "cell_type": "code",
   "execution_count": 1,
   "metadata": {},
   "outputs": [
    {
     "ename": "NameError",
     "evalue": "name 'EpisodicMemory' is not defined",
     "output_type": "error",
     "traceback": [
      "\u001b[0;31m---------------------------------------------------------------------------\u001b[0m",
      "\u001b[0;31mNameError\u001b[0m                                 Traceback (most recent call last)",
      "Cell \u001b[0;32mIn[1], line 1\u001b[0m\n\u001b[0;32m----> 1\u001b[0m foo \u001b[39m=\u001b[39m EpisodicMemory(\u001b[39m4\u001b[39m, \u001b[39mFalse\u001b[39;00m)\n",
      "\u001b[0;31mNameError\u001b[0m: name 'EpisodicMemory' is not defined"
     ]
    }
   ],
   "source": [
    "foo = EpisodicMemory(4, False)"
   ]
  },
  {
   "cell_type": "code",
   "execution_count": 25,
   "metadata": {},
   "outputs": [
    {
     "data": {
      "text/plain": [
       "([['tae', 'atlocation', 'bar'],\n",
       "  ['foo', 'atlocation', 'bad'],\n",
       "  ['bob', 'atlocation', 'bar'],\n",
       "  ['atlocation', 'bar', 'bar']],\n",
       " [['bob', 'atlocation', 'bar', 0],\n",
       "  ['foo', 'atlocation', 'bad', 1],\n",
       "  ['bob', 'atlocation', 'bar', 32],\n",
       "  ['atlocation', 'bar', 'bar', 5]])"
      ]
     },
     "execution_count": 25,
     "metadata": {},
     "output_type": "execute_result"
    }
   ],
   "source": [
    "targets = [\n",
    "    [\"bob\", \"atlocation\", \"bar\", 0],\n",
    "    [\"foo\", \"atlocation\", \"bad\", 1],\n",
    "    [\"bob\", \"atlocation\", \"bar\", 32],\n",
    "    [\"atlocation\", \"bar\", \"bar\", 5],\n",
    "]\n",
    "\n",
    "targets_ = [target[:-1] for target in targets]\n",
    "\n",
    "targets_[0][0] = \"tae\"\n",
    "\n",
    "targets_, targets"
   ]
  },
  {
   "cell_type": "code",
   "execution_count": 1,
   "metadata": {},
   "outputs": [],
   "source": [
    "from explicit_memory.utils import list_duplicates_of"
   ]
  },
  {
   "cell_type": "code",
   "execution_count": 2,
   "metadata": {},
   "outputs": [
    {
     "name": "stdout",
     "output_type": "stream",
     "text": [
      "[3, 4, 5]\n",
      "[0, 2]\n"
     ]
    },
    {
     "data": {
      "text/plain": [
       "[0, 2]"
      ]
     },
     "execution_count": 2,
     "metadata": {},
     "output_type": "execute_result"
    }
   ],
   "source": [
    "targets = [\n",
    "    [\"bob\", \"atlocation\", \"bar\", 0],\n",
    "    [\"foo\", \"atlocation\", \"bad\", 1],\n",
    "    [\"bob\", \"atlocation\", \"bar\", 32],\n",
    "    [\"atlocation\", \"bar\", \"bar\", 5],\n",
    "    [\"atlocation\", \"bar\", \"bar\", 3],\n",
    "    [\"atlocation\", \"bar\", \"bar\", 2],\n",
    "]\n",
    "\n",
    "targets_ = [\"\".join(target[:-1]) for target in targets]\n",
    "\n",
    "to_remove = []\n",
    "for target in set(targets_):\n",
    "    indices = list_duplicates_of(targets_, target)\n",
    "    if len(indices) > 1:\n",
    "        print(indices)\n",
    "        # to_remove.append(indices)\n",
    "\n",
    "indices"
   ]
  },
  {
   "cell_type": "code",
   "execution_count": 24,
   "metadata": {},
   "outputs": [
    {
     "data": {
      "text/plain": [
       "[['atlocation', 'bar', 'bar', 6], ['bob', 'atlocation', 'bar', 33]]"
      ]
     },
     "execution_count": 24,
     "metadata": {},
     "output_type": "execute_result"
    }
   ],
   "source": [
    "targets = [\n",
    "    [\"bob\", \"atlocation\", \"bar\", 33],\n",
    "    [\"bob\", \"atlocation\", \"bar\", 0],\n",
    "    [\"foo\", \"atlocation\", \"bad\", 1],\n",
    "    [\"bob\", \"atlocation\", \"bar\", 32],\n",
    "    [\"atlocation\", \"bar\", \"bar\", 1],\n",
    "    [\"atlocation\", \"bar\", \"bar\", 6],\n",
    "    [\"atlocation\", \"bar\", \"bar\", 2],\n",
    "]\n",
    "\n",
    "targets_ = [\"\".join(target[:-1]) for target in targets]\n",
    "\n",
    "entries = [\"\".join(mem) for mem in targets_]  # to make list hashable\n",
    "uniques = set(entries)\n",
    "\n",
    "locs_all = [list_duplicates_of(entries, unique_entry) for unique_entry in uniques]\n",
    "locs_all.sort(key=len)\n",
    "entries_cleaned = []\n",
    "\n",
    "for locs in locs_all:\n",
    "    if len(locs) == 1:\n",
    "        continue\n",
    "    mem = targets[locs[0]]\n",
    "    mem[-1] = max([targets[loc][-1] for loc in locs])\n",
    "    entries_cleaned.append(mem)\n",
    "\n",
    "entries_cleaned"
   ]
  },
  {
   "cell_type": "code",
   "execution_count": 25,
   "metadata": {},
   "outputs": [
    {
     "data": {
      "text/plain": [
       "[['bob', 'atlocation', 'bar', 0],\n",
       " ['foo', 'atlocation', 'bad', 1],\n",
       " ['bob', 'atlocation', 'bar', 32],\n",
       " ['atlocation', 'bar', 'bar', 6],\n",
       " ['atlocation', 'bar', 'bar', 6],\n",
       " ['atlocation', 'bar', 'bar', 2]]"
      ]
     },
     "execution_count": 25,
     "metadata": {},
     "output_type": "execute_result"
    }
   ],
   "source": [
    "targets.remove(targets[0])\n",
    "\n",
    "targets"
   ]
  },
  {
   "cell_type": "code",
   "execution_count": 21,
   "metadata": {},
   "outputs": [
    {
     "data": {
      "text/plain": [
       "[[2], [4, 5, 6], [0, 1, 3]]"
      ]
     },
     "execution_count": 21,
     "metadata": {},
     "output_type": "execute_result"
    }
   ],
   "source": [
    "locs_all"
   ]
  },
  {
   "cell_type": "code",
   "execution_count": 22,
   "metadata": {},
   "outputs": [
    {
     "name": "stderr",
     "output_type": "stream",
     "text": [
      "2023-09-05 22:39:39.956 INFO memory - add: memory entry ['bob', 'atlocation', 'bar', 33] added. Now there are in total of 1 memories!\n",
      "2023-09-05 22:39:39.957 INFO memory - add: memory entry ['bob', 'atlocation', 'bar', 0] added. Now there are in total of 2 memories!\n",
      "2023-09-05 22:39:39.958 INFO memory - add: memory entry ['foo', 'atlocation', 'bad', 1] added. Now there are in total of 2 memories!\n",
      "2023-09-05 22:39:39.958 INFO memory - add: memory entry ['bob', 'atlocation', 'bar', 32] added. Now there are in total of 3 memories!\n",
      "2023-09-05 22:39:39.958 INFO memory - add: memory entry ['atlocation', 'bar', 'bar', 6] added. Now there are in total of 3 memories!\n",
      "2023-09-05 22:39:39.959 INFO memory - add: memory entry ['atlocation', 'bar', 'bar', 6] added. Now there are in total of 4 memories!\n",
      "2023-09-05 22:39:39.960 INFO memory - add: memory entry ['atlocation', 'bar', 'bar', 2] added. Now there are in total of 4 memories!\n"
     ]
    }
   ],
   "source": [
    "from explicit_memory.memory import EpisodicMemory\n",
    "\n",
    "\n",
    "em = EpisodicMemory(4, True)\n",
    "\n",
    "for target in targets:\n",
    "    em.add(target)"
   ]
  },
  {
   "cell_type": "code",
   "execution_count": 23,
   "metadata": {},
   "outputs": [
    {
     "data": {
      "text/plain": [
       "{   '_frozen': False,\n",
       "    'capacity': 4,\n",
       "    'entries': [   [   'foo',\n",
       "                       'atlocation',\n",
       "                       'bad',\n",
       "                       1],\n",
       "                   [   'atlocation',\n",
       "                       'bar',\n",
       "                       'bar',\n",
       "                       6],\n",
       "                   [   'bob',\n",
       "                       'atlocation',\n",
       "                       'bar',\n",
       "                       33]],\n",
       "    'remove_duplicates': True,\n",
       "    'type': 'episodic'}"
      ]
     },
     "execution_count": 23,
     "metadata": {},
     "output_type": "execute_result"
    }
   ],
   "source": [
    "em"
   ]
  },
  {
   "cell_type": "code",
   "execution_count": 29,
   "metadata": {},
   "outputs": [
    {
     "data": {
      "text/plain": [
       "['tae', ' laptop']"
      ]
     },
     "execution_count": 29,
     "metadata": {},
     "output_type": "execute_result"
    }
   ],
   "source": [
    "\"tae's laptop\".split(\"'s\")"
   ]
  },
  {
   "cell_type": "code",
   "execution_count": 30,
   "metadata": {},
   "outputs": [
    {
     "data": {
      "text/plain": [
       "['laptop']"
      ]
     },
     "execution_count": 30,
     "metadata": {},
     "output_type": "execute_result"
    }
   ],
   "source": [
    "\"laptop\".split(\"'s\")"
   ]
  },
  {
   "cell_type": "code",
   "execution_count": 33,
   "metadata": {},
   "outputs": [
    {
     "data": {
      "text/plain": [
       "{'bowl': 'cupboard',\n",
       " 'dog': 'kennel',\n",
       " 'airplane': 'sky',\n",
       " 'keyboard': 'desk',\n",
       " 'elephant': 'circus',\n",
       " 'sandwich': 'lunchbox',\n",
       " 'boat': 'water',\n",
       " 'handbag': 'store',\n",
       " 'sheep': 'farm',\n",
       " 'donut': 'bakery',\n",
       " 'bicycle': 'garage',\n",
       " 'bird': 'tree',\n",
       " 'car': 'city',\n",
       " 'oven': 'home',\n",
       " 'kite': 'air',\n",
       " 'train': 'zoo'}"
      ]
     },
     "execution_count": 33,
     "metadata": {},
     "output_type": "execute_result"
    }
   ],
   "source": [
    "import gymnasium as gym\n",
    "\n",
    "env = gym.make(\"room_env:RoomEnv-v1\")\n",
    "env.des.semantic_knowledge"
   ]
  },
  {
   "cell_type": "code",
   "execution_count": 35,
   "metadata": {},
   "outputs": [
    {
     "data": {
      "text/plain": [
       "[1, 2, 3, 5]"
      ]
     },
     "execution_count": 35,
     "metadata": {},
     "output_type": "execute_result"
    }
   ],
   "source": [
    "[*[1, 2, 3], 5]"
   ]
  },
  {
   "cell_type": "code",
   "execution_count": 5,
   "metadata": {},
   "outputs": [
    {
     "name": "stderr",
     "output_type": "stream",
     "text": [
      "2023-09-06 00:02:45.850 INFO memory - add: memory entry ['tae', 'atlocation', 'livingroom', 1] added. Now there are in total of 1 memories!\n",
      "2023-09-06 00:02:45.851 INFO memory - add: memory entry ['tae', 'atlocation', 'livingroom', 2] added. Now there are in total of 2 memories!\n",
      "2023-09-06 00:02:45.852 INFO memory - add: memory entry ['tae', 'atlocation', 'livingroom', 3] added. Now there are in total of 2 memories!\n",
      "2023-09-06 00:02:45.853 INFO memory - add: memory entry ['tae', 'atlocation', 'livingroom', 4] added. Now there are in total of 2 memories!\n"
     ]
    },
    {
     "data": {
      "text/plain": [
       "{   '_frozen': False,\n",
       "    'capacity': 4,\n",
       "    'entries': [   [   'tae',\n",
       "                       'atlocation',\n",
       "                       'livingroom',\n",
       "                       10],\n",
       "                   [   'tae',\n",
       "                       'atlocation',\n",
       "                       'livingroom',\n",
       "                       5]],\n",
       "    'type': 'semantic'}"
      ]
     },
     "execution_count": 5,
     "metadata": {},
     "output_type": "execute_result"
    }
   ],
   "source": [
    "from explicit_memory.memory import EpisodicMemory, SemanticMemory, ShortMemory\n",
    "\n",
    "\n",
    "sm = SemanticMemory(4)\n",
    "\n",
    "sm.add([\"tae\", \"atlocation\", \"livingroom\", 1])\n",
    "sm.add([\"tae\", \"atlocation\", \"livingroom\", 2])\n",
    "sm.add([\"tae\", \"atlocation\", \"livingroom\", 3])\n",
    "sm.add([\"tae\", \"atlocation\", \"livingroom\", 4])\n",
    "sm.entries.append([\"tae\", \"atlocation\", \"livingroom\", 5])\n",
    "sm"
   ]
  },
  {
   "cell_type": "code",
   "execution_count": 6,
   "metadata": {},
   "outputs": [
    {
     "data": {
      "text/plain": [
       "{   '_frozen': False,\n",
       "    'capacity': 4,\n",
       "    'entries': [   [   'tae',\n",
       "                       'atlocation',\n",
       "                       'livingroom',\n",
       "                       15]],\n",
       "    'type': 'semantic'}"
      ]
     },
     "execution_count": 6,
     "metadata": {},
     "output_type": "execute_result"
    }
   ],
   "source": [
    "sm.clean_same_memories()\n",
    "sm"
   ]
  },
  {
   "cell_type": "code",
   "execution_count": 1,
   "metadata": {},
   "outputs": [
    {
     "data": {
      "text/plain": [
       "['Tae', ' food']"
      ]
     },
     "execution_count": 1,
     "metadata": {},
     "output_type": "execute_result"
    }
   ],
   "source": [
    "\"Tae's food\".split(\"'s\")"
   ]
  },
  {
   "cell_type": "code",
   "execution_count": 5,
   "metadata": {},
   "outputs": [],
   "source": [
    "name_entity = \"Tae's food\"\n",
    "\n",
    "name, entity = name_entity.split(\"'s \")"
   ]
  },
  {
   "cell_type": "code",
   "execution_count": 6,
   "metadata": {},
   "outputs": [
    {
     "data": {
      "text/plain": [
       "('Tae', 'food')"
      ]
     },
     "execution_count": 6,
     "metadata": {},
     "output_type": "execute_result"
    }
   ],
   "source": [
    "name, entity"
   ]
  },
  {
   "cell_type": "code",
   "execution_count": 9,
   "metadata": {},
   "outputs": [
    {
     "data": {
      "text/plain": [
       "'food'"
      ]
     },
     "execution_count": 9,
     "metadata": {},
     "output_type": "execute_result"
    }
   ],
   "source": [
    "remove_posession(\"tae's food\")"
   ]
  },
  {
   "cell_type": "code",
   "execution_count": null,
   "metadata": {},
   "outputs": [],
   "source": [
    "from explicit_memory.utils import remove_posession, remove_timestamp\n",
    "\n",
    "MARKER = \"^^^\"\n",
    "entries = [\n",
    "    [\"bob's food\", \"atlocation\", \"bar\", 33],\n",
    "    [\"tae's food\", \"atlocation\", \"bar\", 0],\n",
    "    [\"foo\", \"atlocation\", \"bad\", 1],\n",
    "    [\"bob\", \"atlocation\", \"bar\", 32],\n",
    "    [\"atlocation\", \"bar\", \"kid's bar\", 1],\n",
    "    [\"atlocation\", \"bar\", \"michael's bar\", 6],\n",
    "    [\"atlocation\", \"bar\", \"vincent's bar\", 2],\n",
    "    [\"atlocation\", \"bar\", \"bar\", 2],\n",
    "    [\"atlocation\", \"bar\", \"bar\", 2],\n",
    "]\n",
    "\n",
    "# -1 removes the timestamps from the quadruples\n",
    "semantic_possibles = [\n",
    "    [remove_posession(e) for e in remove_timestamp(entry)] for entry in entries\n",
    "]\n",
    "# MARKER is to allow hashing.\n",
    "semantic_possibles = [MARKER.join(elem) for elem in semantic_possibles]\n",
    "\n",
    "\n",
    "def duplicates(mylist, item):\n",
    "    return [i for i, x in enumerate(mylist) if x == item]\n",
    "\n",
    "\n",
    "semantic_possibles = dict(\n",
    "    (x, duplicates(semantic_possibles, x)) for x in set(semantic_possibles)\n",
    ")\n",
    "\n",
    "if len(semantic_possibles) == len(entries):\n",
    "    print(\"no episodic memories found to be compressible.\")\n",
    "    # return None, None\n",
    "elif len(semantic_possibles) < len(entries):\n",
    "    # logging.debug(\"some episodic memories found to be compressible.\")\n",
    "\n",
    "    max_key = max(semantic_possibles, key=lambda k: len(semantic_possibles[k]))\n",
    "    indexes = semantic_possibles[max_key]\n",
    "\n",
    "    episodic_memories = map(entries.__getitem__, indexes)\n",
    "    episodic_memories = list(episodic_memories)\n",
    "    # sort from the oldest to the latest\n",
    "    episodic_memories = sorted(episodic_memories, key=lambda x: x[-1])\n",
    "    semantic_memory = max_key.split(MARKER)\n",
    "    # num_generalized_memories is the number of compressed episodic memories.\n",
    "    semantic_memory.append(len(indexes))\n",
    "    assert (len(semantic_memory)) == 4\n",
    "    for mem in episodic_memories:\n",
    "        assert len(mem) == 4\n",
    "\n",
    "    print(\n",
    "        f\"{len(indexes)} episodic memories can be compressed \"\n",
    "        f\"into one semantic memory: {semantic_memory}.\"\n",
    "    )\n",
    "\n",
    "    # return episodic_memories, semantic_memory\n",
    "else:\n",
    "    raise ValueError"
   ]
  },
  {
   "cell_type": "code",
   "execution_count": 33,
   "metadata": {},
   "outputs": [],
   "source": [
    "import random\n",
    "\n",
    "entries = [\n",
    "    [\"bob's food\", \"atlocation\", \"bar\", 33],\n",
    "    [\"tae's food\", \"atlocation\", \"bar\", 0],\n",
    "    [\"foo\", \"atlocation\", \"bad\", 1],\n",
    "    [\"bob\", \"atlocation\", \"bar\", 32],\n",
    "    [\"atlocation\", \"bar\", \"kid's bar\", 1],\n",
    "    [\"atlocation\", \"bar\", \"michael's bar\", 6],\n",
    "    [\"atlocation\", \"bar\", \"vincent's bar\", 2],\n",
    "    [\"atlocation\", \"bar\", \"bar\", 2],\n",
    "    [\"atlocation\", \"bar\", \"bar\", 2],\n",
    "]\n",
    "best_semantic_possibles = []\n",
    "\n",
    "for mem in entries:\n",
    "    head, relation, tail = (\n",
    "        remove_posession(mem[0]),\n",
    "        remove_posession(mem[1]),\n",
    "        remove_posession(mem[2]),\n",
    "    )\n",
    "    best_semantic_possibles.append([head, relation, tail])\n",
    "\n",
    "best_semantic_possibles = [\n",
    "    (i, elem, best_semantic_possibles.count(elem))\n",
    "    for i, elem in enumerate(best_semantic_possibles)\n",
    "]"
   ]
  },
  {
   "cell_type": "code",
   "execution_count": 34,
   "metadata": {},
   "outputs": [
    {
     "data": {
      "text/plain": [
       "[(0, ['food', 'atlocation', 'bar'], 2),\n",
       " (1, ['food', 'atlocation', 'bar'], 2),\n",
       " (2, ['foo', 'atlocation', 'bad'], 1),\n",
       " (3, ['bob', 'atlocation', 'bar'], 1),\n",
       " (4, ['atlocation', 'bar', 'bar'], 5),\n",
       " (5, ['atlocation', 'bar', 'bar'], 5),\n",
       " (6, ['atlocation', 'bar', 'bar'], 5),\n",
       " (7, ['atlocation', 'bar', 'bar'], 5),\n",
       " (8, ['atlocation', 'bar', 'bar'], 5)]"
      ]
     },
     "execution_count": 34,
     "metadata": {},
     "output_type": "execute_result"
    }
   ],
   "source": [
    "best_semantic_possibles"
   ]
  },
  {
   "cell_type": "code",
   "execution_count": 38,
   "metadata": {},
   "outputs": [],
   "source": [
    "highest_freq = max([elem[2] for elem in best_semantic_possibles])\n",
    "\n",
    "best_semantic_possibles = [\n",
    "    elem for elem in best_semantic_possibles if elem[2] == highest_freq\n",
    "]\n",
    "\n",
    "mem_sem = random.choice(best_semantic_possibles)\n",
    "idx = mem_sem[0]\n",
    "\n",
    "mem_selected = entries[idx]"
   ]
  },
  {
   "cell_type": "code",
   "execution_count": 39,
   "metadata": {},
   "outputs": [
    {
     "data": {
      "text/plain": [
       "[(4, ['atlocation', 'bar', 'bar'], 5),\n",
       " (5, ['atlocation', 'bar', 'bar'], 5),\n",
       " (6, ['atlocation', 'bar', 'bar'], 5),\n",
       " (7, ['atlocation', 'bar', 'bar'], 5),\n",
       " (8, ['atlocation', 'bar', 'bar'], 5)]"
      ]
     },
     "execution_count": 39,
     "metadata": {},
     "output_type": "execute_result"
    }
   ],
   "source": [
    "best_semantic_possibles"
   ]
  },
  {
   "cell_type": "code",
   "execution_count": 40,
   "metadata": {},
   "outputs": [
    {
     "data": {
      "text/plain": [
       "(4, ['atlocation', 'bar', 'bar'], 5)"
      ]
     },
     "execution_count": 40,
     "metadata": {},
     "output_type": "execute_result"
    }
   ],
   "source": [
    "mem_sem"
   ]
  },
  {
   "cell_type": "code",
   "execution_count": 27,
   "metadata": {},
   "outputs": [
    {
     "data": {
      "text/plain": [
       "['atlocation', 'bar', 'bar', 2]"
      ]
     },
     "execution_count": 27,
     "metadata": {},
     "output_type": "execute_result"
    }
   ],
   "source": [
    "mem_selected"
   ]
  }
 ],
 "metadata": {
  "kernelspec": {
   "display_name": "human-memory",
   "language": "python",
   "name": "python3"
  },
  "language_info": {
   "codemirror_mode": {
    "name": "ipython",
    "version": 3
   },
   "file_extension": ".py",
   "mimetype": "text/x-python",
   "name": "python",
   "nbconvert_exporter": "python",
   "pygments_lexer": "ipython3",
   "version": "3.9.18"
  },
  "orig_nbformat": 4
 },
 "nbformat": 4,
 "nbformat_minor": 2
}
