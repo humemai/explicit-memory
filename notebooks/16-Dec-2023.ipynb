{
 "cells": [
  {
   "cell_type": "code",
   "execution_count": 10,
   "metadata": {},
   "outputs": [
    {
     "data": {
      "text/plain": [
       "(array([0., 1.]),\n",
       " array([0.84147098, 1.        ]),\n",
       " array([0.90929743, 0.99999998]),\n",
       " array([0.14112001, 0.99999996]))"
      ]
     },
     "execution_count": 10,
     "metadata": {},
     "output_type": "execute_result"
    }
   ],
   "source": [
    "from explicit_memory.utils import positional_encoding\n",
    "\n",
    "foo = positional_encoding(4, 2)\n",
    "\n",
    "foo[0], foo[1], foo[2], foo[3]"
   ]
  }
 ],
 "metadata": {
  "kernelspec": {
   "display_name": "human-memory",
   "language": "python",
   "name": "python3"
  },
  "language_info": {
   "codemirror_mode": {
    "name": "ipython",
    "version": 3
   },
   "file_extension": ".py",
   "mimetype": "text/x-python",
   "name": "python",
   "nbconvert_exporter": "python",
   "pygments_lexer": "ipython3",
   "version": "3.10.12"
  }
 },
 "nbformat": 4,
 "nbformat_minor": 2
}
